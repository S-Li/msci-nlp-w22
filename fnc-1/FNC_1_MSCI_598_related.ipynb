{
  "cells": [
    {
      "cell_type": "markdown",
      "metadata": {
        "id": "view-in-github",
        "colab_type": "text"
      },
      "source": [
        "<a href=\"https://colab.research.google.com/github/S-Li/msci-nlp-w22/blob/main/fnc-1/FNC_1_MSCI_598_related.ipynb\" target=\"_parent\"><img src=\"https://colab.research.google.com/assets/colab-badge.svg\" alt=\"Open In Colab\"/></a>"
      ]
    },
    {
      "cell_type": "code",
      "execution_count": null,
      "metadata": {
        "id": "poV3ADX9V27e",
        "colab": {
          "base_uri": "https://localhost:8080/"
        },
        "outputId": "e41e5991-5f7f-4fce-8f8a-223ebb590f2a"
      },
      "outputs": [
        {
          "output_type": "stream",
          "name": "stdout",
          "text": [
            "Mounted at /content/drive\n"
          ]
        }
      ],
      "source": [
        "from google.colab import drive\n",
        "drive.mount('/content/drive')"
      ]
    },
    {
      "cell_type": "code",
      "execution_count": null,
      "metadata": {
        "colab": {
          "base_uri": "https://localhost:8080/"
        },
        "id": "tFQcbrlhaxZ2",
        "outputId": "8315ceb8-3ff6-4d42-cf61-7f8fc95c9d8b"
      },
      "outputs": [
        {
          "output_type": "stream",
          "name": "stdout",
          "text": [
            "/content/drive/MyDrive/GitHub/fnc-1\n"
          ]
        }
      ],
      "source": [
        "%cd /content/drive/MyDrive/GitHub/fnc-1"
      ]
    },
    {
      "cell_type": "markdown",
      "source": [
        "### 0. Set-up"
      ],
      "metadata": {
        "id": "Y8jl-7Hl3M2U"
      }
    },
    {
      "cell_type": "code",
      "execution_count": null,
      "metadata": {
        "id": "ABEMyemlpqpT"
      },
      "outputs": [],
      "source": [
        "# %cd drive/MyDrive/GitHub/\n",
        "# !git clone https://github.com/FakeNewsChallenge/fnc-1"
      ]
    },
    {
      "cell_type": "code",
      "execution_count": null,
      "metadata": {
        "id": "MTNyaTjjXAxL",
        "colab": {
          "base_uri": "https://localhost:8080/"
        },
        "outputId": "8a0f66f2-6729-47e3-b1a8-d0931da1d57e"
      },
      "outputs": [
        {
          "output_type": "stream",
          "name": "stdout",
          "text": [
            "Collecting transformers\n",
            "  Downloading transformers-4.18.0-py3-none-any.whl (4.0 MB)\n",
            "\u001b[K     |████████████████████████████████| 4.0 MB 5.2 MB/s \n",
            "\u001b[?25hCollecting pyyaml>=5.1\n",
            "  Downloading PyYAML-6.0-cp37-cp37m-manylinux_2_5_x86_64.manylinux1_x86_64.manylinux_2_12_x86_64.manylinux2010_x86_64.whl (596 kB)\n",
            "\u001b[K     |████████████████████████████████| 596 kB 43.1 MB/s \n",
            "\u001b[?25hRequirement already satisfied: importlib-metadata in /usr/local/lib/python3.7/dist-packages (from transformers) (4.11.3)\n",
            "Collecting sacremoses\n",
            "  Downloading sacremoses-0.0.49-py3-none-any.whl (895 kB)\n",
            "\u001b[K     |████████████████████████████████| 895 kB 36.6 MB/s \n",
            "\u001b[?25hRequirement already satisfied: numpy>=1.17 in /usr/local/lib/python3.7/dist-packages (from transformers) (1.21.5)\n",
            "Requirement already satisfied: requests in /usr/local/lib/python3.7/dist-packages (from transformers) (2.23.0)\n",
            "Collecting huggingface-hub<1.0,>=0.1.0\n",
            "  Downloading huggingface_hub-0.5.1-py3-none-any.whl (77 kB)\n",
            "\u001b[K     |████████████████████████████████| 77 kB 7.0 MB/s \n",
            "\u001b[?25hRequirement already satisfied: tqdm>=4.27 in /usr/local/lib/python3.7/dist-packages (from transformers) (4.64.0)\n",
            "Requirement already satisfied: filelock in /usr/local/lib/python3.7/dist-packages (from transformers) (3.6.0)\n",
            "Requirement already satisfied: packaging>=20.0 in /usr/local/lib/python3.7/dist-packages (from transformers) (21.3)\n",
            "Requirement already satisfied: regex!=2019.12.17 in /usr/local/lib/python3.7/dist-packages (from transformers) (2019.12.20)\n",
            "Collecting tokenizers!=0.11.3,<0.13,>=0.11.1\n",
            "  Downloading tokenizers-0.12.1-cp37-cp37m-manylinux_2_12_x86_64.manylinux2010_x86_64.whl (6.6 MB)\n",
            "\u001b[K     |████████████████████████████████| 6.6 MB 32.9 MB/s \n",
            "\u001b[?25hRequirement already satisfied: typing-extensions>=3.7.4.3 in /usr/local/lib/python3.7/dist-packages (from huggingface-hub<1.0,>=0.1.0->transformers) (4.1.1)\n",
            "Requirement already satisfied: pyparsing!=3.0.5,>=2.0.2 in /usr/local/lib/python3.7/dist-packages (from packaging>=20.0->transformers) (3.0.8)\n",
            "Requirement already satisfied: zipp>=0.5 in /usr/local/lib/python3.7/dist-packages (from importlib-metadata->transformers) (3.8.0)\n",
            "Requirement already satisfied: chardet<4,>=3.0.2 in /usr/local/lib/python3.7/dist-packages (from requests->transformers) (3.0.4)\n",
            "Requirement already satisfied: urllib3!=1.25.0,!=1.25.1,<1.26,>=1.21.1 in /usr/local/lib/python3.7/dist-packages (from requests->transformers) (1.24.3)\n",
            "Requirement already satisfied: idna<3,>=2.5 in /usr/local/lib/python3.7/dist-packages (from requests->transformers) (2.10)\n",
            "Requirement already satisfied: certifi>=2017.4.17 in /usr/local/lib/python3.7/dist-packages (from requests->transformers) (2021.10.8)\n",
            "Requirement already satisfied: six in /usr/local/lib/python3.7/dist-packages (from sacremoses->transformers) (1.15.0)\n",
            "Requirement already satisfied: click in /usr/local/lib/python3.7/dist-packages (from sacremoses->transformers) (7.1.2)\n",
            "Requirement already satisfied: joblib in /usr/local/lib/python3.7/dist-packages (from sacremoses->transformers) (1.1.0)\n",
            "Installing collected packages: pyyaml, tokenizers, sacremoses, huggingface-hub, transformers\n",
            "  Attempting uninstall: pyyaml\n",
            "    Found existing installation: PyYAML 3.13\n",
            "    Uninstalling PyYAML-3.13:\n",
            "      Successfully uninstalled PyYAML-3.13\n",
            "Successfully installed huggingface-hub-0.5.1 pyyaml-6.0 sacremoses-0.0.49 tokenizers-0.12.1 transformers-4.18.0\n"
          ]
        }
      ],
      "source": [
        "!pip install transformers"
      ]
    },
    {
      "cell_type": "code",
      "execution_count": null,
      "metadata": {
        "colab": {
          "base_uri": "https://localhost:8080/"
        },
        "id": "b-MYpACQY2eH",
        "outputId": "4b610607-b1e9-47b1-9085-14cade5b6e5e"
      },
      "outputs": [
        {
          "output_type": "execute_result",
          "data": {
            "text/plain": [
              "device(type='cuda', index=0)"
            ]
          },
          "metadata": {},
          "execution_count": 4
        }
      ],
      "source": [
        "import transformers\n",
        "from transformers import BertModel, BertTokenizer, AdamW, get_linear_schedule_with_warmup\n",
        "import torch\n",
        "\n",
        "import numpy as np\n",
        "import pandas as pd\n",
        "import seaborn as sns\n",
        "from pylab import rcParams\n",
        "import matplotlib.pyplot as plt\n",
        "from matplotlib import rc\n",
        "from sklearn.model_selection import train_test_split\n",
        "from sklearn.metrics import confusion_matrix, classification_report\n",
        "from collections import defaultdict\n",
        "from textwrap import wrap\n",
        "\n",
        "from torch import nn, optim\n",
        "from torch.utils.data import Dataset, DataLoader\n",
        "import torch.nn.functional as F\n",
        "\n",
        "%matplotlib inline\n",
        "%config InlineBackend.figure_format='retina'\n",
        "\n",
        "sns.set(style='whitegrid', palette='muted', font_scale=1.2)\n",
        "\n",
        "HAPPY_COLORS_PALETTE = [\"#01BEFE\", \"#FFDD00\", \"#FF7D00\", \"#FF006D\", \"#ADFF02\", \"#8F00FF\"]\n",
        "\n",
        "sns.set_palette(sns.color_palette(HAPPY_COLORS_PALETTE))\n",
        "\n",
        "rcParams['figure.figsize'] = 12, 8\n",
        "\n",
        "RANDOM_SEED = 42\n",
        "np.random.seed(RANDOM_SEED)\n",
        "torch.manual_seed(RANDOM_SEED)\n",
        "\n",
        "transformers.logging.set_verbosity_error()\n",
        "\n",
        "device = torch.device(\"cuda:0\" if torch.cuda.is_available() else \"cpu\")\n",
        "device"
      ]
    },
    {
      "cell_type": "markdown",
      "metadata": {
        "id": "IxR0pVJ_hPeu"
      },
      "source": [
        "## Data Preprocessing"
      ]
    },
    {
      "cell_type": "markdown",
      "source": [
        "### 1. Dataset Balancing\n"
      ],
      "metadata": {
        "id": "wQ-Hitpi2elv"
      }
    },
    {
      "cell_type": "code",
      "execution_count": null,
      "metadata": {
        "id": "Ln9mSW10waxO"
      },
      "outputs": [],
      "source": [
        "stances = ['agree', 'disagree', 'discuss']"
      ]
    },
    {
      "cell_type": "code",
      "execution_count": null,
      "metadata": {
        "id": "zA2Uy8k7a9IZ"
      },
      "outputs": [],
      "source": [
        "# get csv stances files for training and competition test\n",
        "df_stances_train = pd.read_csv(\"train_stances.csv\")\n",
        "df_stances_test = pd.read_csv(\"competition_test_stances.csv\")"
      ]
    },
    {
      "cell_type": "code",
      "source": [
        "print(f\"length of filtered training set: {len(df_stances_train)}\")\n",
        "sns.countplot(df_stances_train.Stance)\n",
        "plt.xlabel('article stance')"
      ],
      "metadata": {
        "id": "TtLRUk6KRddz",
        "outputId": "c21ceb5f-1f26-41bc-da76-a428cd8955c1",
        "colab": {
          "base_uri": "https://localhost:8080/",
          "height": 599
        }
      },
      "execution_count": null,
      "outputs": [
        {
          "output_type": "stream",
          "name": "stdout",
          "text": [
            "length of filtered training set: 49972\n"
          ]
        },
        {
          "output_type": "stream",
          "name": "stderr",
          "text": [
            "/usr/local/lib/python3.7/dist-packages/seaborn/_decorators.py:43: FutureWarning: Pass the following variable as a keyword arg: x. From version 0.12, the only valid positional argument will be `data`, and passing other arguments without an explicit keyword will result in an error or misinterpretation.\n",
            "  FutureWarning\n"
          ]
        },
        {
          "output_type": "execute_result",
          "data": {
            "text/plain": [
              "Text(0.5, 0, 'article stance')"
            ]
          },
          "metadata": {},
          "execution_count": 16
        },
        {
          "output_type": "display_data",
          "data": {
            "text/plain": [
              "<Figure size 864x576 with 1 Axes>"
            ],
            "image/png": "[encoded data removed]"
          },
          "metadata": {
            "image/png": {
              "width": 753,
              "height": 489
            }
          }
        }
      ]
    },
    {
      "cell_type": "code",
      "source": [
        "# add a new column to the stance training df\n",
        "# (for data augmentation use later)\n",
        "df_stances_train['bodyDs'] = 1"
      ],
      "metadata": {
        "id": "HLgBFNfym4NE"
      },
      "execution_count": null,
      "outputs": []
    },
    {
      "cell_type": "code",
      "source": [
        "# collect all disagreeing stances for data augmentation\n",
        "df_stances_train_disagree = df_stances_train[df_stances_train[\"Stance\"] == \"disagree\"]\n",
        "df_stances_train_agree = df_stances_train[df_stances_train[\"Stance\"] == \"agree\"]\n",
        "df_stances_train_discuss = df_stances_train[df_stances_train[\"Stance\"] == \"discuss\"]\n",
        "\n",
        "# collect all related stances for testing\n",
        "df_stances_test_filtered = df_stances_test[df_stances_test[\"Stance\"] != \"unrelated\"]\n",
        "df_stances_test_filtered.sort_index(axis=0, inplace=True)"
      ],
      "metadata": {
        "id": "5lIDyMwP1-Wq"
      },
      "execution_count": null,
      "outputs": []
    },
    {
      "cell_type": "code",
      "source": [
        "print(\"disagree training data length: \", len(df_stances_train_disagree))\n",
        "df_stances_train_disagree.head()"
      ],
      "metadata": {
        "id": "j6YGJUAN7Sss",
        "colab": {
          "base_uri": "https://localhost:8080/",
          "height": 225
        },
        "outputId": "493cd738-ebbd-48a8-cc11-7031e8e8d0bd"
      },
      "execution_count": null,
      "outputs": [
        {
          "output_type": "stream",
          "name": "stdout",
          "text": [
            "disagree training data length:  840\n"
          ]
        },
        {
          "output_type": "execute_result",
          "data": {
            "text/plain": [
              "                                              Headline  Body ID    Stance  \\\n",
              "4    Spider burrowed through tourist's stomach and ...     1923  disagree   \n",
              "53   Pope Francis turns out not to have made pets i...     1905  disagree   \n",
              "60   No, it's not Tiger Woods selling an island in ...      965  disagree   \n",
              "166  ADVISORY-Islamist rebel leader killed in U.S. ...      313  disagree   \n",
              "172  Weather Reporter Caught Writing His Name In Th...      975  disagree   \n",
              "\n",
              "     bodyDs  \n",
              "4         1  \n",
              "53        1  \n",
              "60        1  \n",
              "166       1  \n",
              "172       1  "
            ],
            "text/html": [
              "\n",
              "  <div id=\"df-11ec51d5-b376-4598-a156-1d00d632a117\">\n",
              "    <div class=\"colab-df-container\">\n",
              "      <div>\n",
              "<style scoped>\n",
              "    .dataframe tbody tr th:only-of-type {\n",
              "        vertical-align: middle;\n",
              "    }\n",
              "\n",
              "    .dataframe tbody tr th {\n",
              "        vertical-align: top;\n",
              "    }\n",
              "\n",
              "    .dataframe thead th {\n",
              "        text-align: right;\n",
              "    }\n",
              "</style>\n",
              "<table border=\"1\" class=\"dataframe\">\n",
              "  <thead>\n",
              "    <tr style=\"text-align: right;\">\n",
              "      <th></th>\n",
              "      <th>Headline</th>\n",
              "      <th>Body ID</th>\n",
              "      <th>Stance</th>\n",
              "      <th>bodyDs</th>\n",
              "    </tr>\n",
              "  </thead>\n",
              "  <tbody>\n",
              "    <tr>\n",
              "      <th>4</th>\n",
              "      <td>Spider burrowed through tourist's stomach and ...</td>\n",
              "      <td>1923</td>\n",
              "      <td>disagree</td>\n",
              "      <td>1</td>\n",
              "    </tr>\n",
              "    <tr>\n",
              "      <th>53</th>\n",
              "      <td>Pope Francis turns out not to have made pets i...</td>\n",
              "      <td>1905</td>\n",
              "      <td>disagree</td>\n",
              "      <td>1</td>\n",
              "    </tr>\n",
              "    <tr>\n",
              "      <th>60</th>\n",
              "      <td>No, it's not Tiger Woods selling an island in ...</td>\n",
              "      <td>965</td>\n",
              "      <td>disagree</td>\n",
              "      <td>1</td>\n",
              "    </tr>\n",
              "    <tr>\n",
              "      <th>166</th>\n",
              "      <td>ADVISORY-Islamist rebel leader killed in U.S. ...</td>\n",
              "      <td>313</td>\n",
              "      <td>disagree</td>\n",
              "      <td>1</td>\n",
              "    </tr>\n",
              "    <tr>\n",
              "      <th>172</th>\n",
              "      <td>Weather Reporter Caught Writing His Name In Th...</td>\n",
              "      <td>975</td>\n",
              "      <td>disagree</td>\n",
              "      <td>1</td>\n",
              "    </tr>\n",
              "  </tbody>\n",
              "</table>\n",
              "</div>\n",
              "      <button class=\"colab-df-convert\" onclick=\"convertToInteractive('df-11ec51d5-b376-4598-a156-1d00d632a117')\"\n",
              "              title=\"Convert this dataframe to an interactive table.\"\n",
              "              style=\"display:none;\">\n",
              "        \n",
              "  <svg xmlns=\"http://www.w3.org/2000/svg\" height=\"24px\"viewBox=\"0 0 24 24\"\n",
              "       width=\"24px\">\n",
              "    <path d=\"M0 0h24v24H0V0z\" fill=\"none\"/>\n",
              "    <path d=\"M18.56 5.44l.94 2.06.94-2.06 2.06-.94-2.06-.94-.94-2.06-.94 2.06-2.06.94zm-11 1L8.5 8.5l.94-2.06 2.06-.94-2.06-.94L8.5 2.5l-.94 2.06-2.06.94zm10 10l.94 2.06.94-2.06 2.06-.94-2.06-.94-.94-2.06-.94 2.06-2.06.94z\"/><path d=\"M17.41 7.96l-1.37-1.37c-.4-.4-.92-.59-1.43-.59-.52 0-1.04.2-1.43.59L10.3 9.45l-7.72 7.72c-.78.78-.78 2.05 0 2.83L4 21.41c.39.39.9.59 1.41.59.51 0 1.02-.2 1.41-.59l7.78-7.78 2.81-2.81c.8-.78.8-2.07 0-2.86zM5.41 20L4 18.59l7.72-7.72 1.47 1.35L5.41 20z\"/>\n",
              "  </svg>\n",
              "      </button>\n",
              "      \n",
              "  <style>\n",
              "    .colab-df-container {\n",
              "      display:flex;\n",
              "      flex-wrap:wrap;\n",
              "      gap: 12px;\n",
              "    }\n",
              "\n",
              "    .colab-df-convert {\n",
              "      background-color: #E8F0FE;\n",
              "      border: none;\n",
              "      border-radius: 50%;\n",
              "      cursor: pointer;\n",
              "      display: none;\n",
              "      fill: #1967D2;\n",
              "      height: 32px;\n",
              "      padding: 0 0 0 0;\n",
              "      width: 32px;\n",
              "    }\n",
              "\n",
              "    .colab-df-convert:hover {\n",
              "      background-color: #E2EBFA;\n",
              "      box-shadow: 0px 1px 2px rgba(60, 64, 67, 0.3), 0px 1px 3px 1px rgba(60, 64, 67, 0.15);\n",
              "      fill: #174EA6;\n",
              "    }\n",
              "\n",
              "    [theme=dark] .colab-df-convert {\n",
              "      background-color: #3B4455;\n",
              "      fill: #D2E3FC;\n",
              "    }\n",
              "\n",
              "    [theme=dark] .colab-df-convert:hover {\n",
              "      background-color: #434B5C;\n",
              "      box-shadow: 0px 1px 3px 1px rgba(0, 0, 0, 0.15);\n",
              "      filter: drop-shadow(0px 1px 2px rgba(0, 0, 0, 0.3));\n",
              "      fill: #FFFFFF;\n",
              "    }\n",
              "  </style>\n",
              "\n",
              "      <script>\n",
              "        const buttonEl =\n",
              "          document.querySelector('#df-11ec51d5-b376-4598-a156-1d00d632a117 button.colab-df-convert');\n",
              "        buttonEl.style.display =\n",
              "          google.colab.kernel.accessAllowed ? 'block' : 'none';\n",
              "\n",
              "        async function convertToInteractive(key) {\n",
              "          const element = document.querySelector('#df-11ec51d5-b376-4598-a156-1d00d632a117');\n",
              "          const dataTable =\n",
              "            await google.colab.kernel.invokeFunction('convertToInteractive',\n",
              "                                                     [key], {});\n",
              "          if (!dataTable) return;\n",
              "\n",
              "          const docLinkHtml = 'Like what you see? Visit the ' +\n",
              "            '<a target=\"_blank\" href=https://colab.research.google.com/notebooks/data_table.ipynb>data table notebook</a>'\n",
              "            + ' to learn more about interactive tables.';\n",
              "          element.innerHTML = '';\n",
              "          dataTable['output_type'] = 'display_data';\n",
              "          await google.colab.output.renderOutput(dataTable, element);\n",
              "          const docLink = document.createElement('div');\n",
              "          docLink.innerHTML = docLinkHtml;\n",
              "          element.appendChild(docLink);\n",
              "        }\n",
              "      </script>\n",
              "    </div>\n",
              "  </div>\n",
              "  "
            ]
          },
          "metadata": {},
          "execution_count": 9
        }
      ]
    },
    {
      "cell_type": "code",
      "execution_count": null,
      "metadata": {
        "id": "cEeNc1nEbx4E"
      },
      "outputs": [],
      "source": [
        "# get the csv body files for training and competition test\n",
        "df_body_train = pd.read_csv(\"train_bodies.csv\")\n",
        "df_body_test = pd.read_csv(\"competition_test_bodies.csv\")"
      ]
    },
    {
      "cell_type": "code",
      "source": [
        "# add a new column to the body training df\n",
        "# (for data augmentation use later)\n",
        "df_body_train['bodyDs'] = 1"
      ],
      "metadata": {
        "id": "SSB9y2xwDpAJ"
      },
      "execution_count": null,
      "outputs": []
    },
    {
      "cell_type": "code",
      "source": [
        "# collect all disagreeing body articles for data augmentation\n",
        "# get unique list of disagreeing body ids\n",
        "body_ids_disagree = df_stances_train_disagree['Body ID'].tolist()\n",
        "body_ids_disagree = list(set(body_ids_disagree))\n",
        "print(len(body_ids_disagree))\n",
        "\n",
        "# get filtered body dataset \n",
        "df_body_train_disagree = df_body_train[df_body_train['Body ID'].isin(body_ids_disagree)]\n",
        "df_body_train_rest = df_body_train[~df_body_train['Body ID'].isin(body_ids_disagree)]"
      ],
      "metadata": {
        "id": "tbGf-uuNzcRe",
        "colab": {
          "base_uri": "https://localhost:8080/"
        },
        "outputId": "84ef9321-68f9-451d-e7cc-1c7a53bb76bc"
      },
      "execution_count": null,
      "outputs": [
        {
          "output_type": "stream",
          "name": "stdout",
          "text": [
            "291\n"
          ]
        }
      ]
    },
    {
      "cell_type": "code",
      "source": [
        "print(df_body_train_disagree)\n",
        "print(df_body_train_rest)"
      ],
      "metadata": {
        "colab": {
          "base_uri": "https://localhost:8080/"
        },
        "id": "ch7nYZQW8-3c",
        "outputId": "88cb15d9-92b4-464a-dcee-25820c5aa2d8"
      },
      "execution_count": null,
      "outputs": [
        {
          "output_type": "stream",
          "name": "stdout",
          "text": [
            "      Body ID                                        articleBody  bodyDs\n",
            "52         78  This rumour is ridiculous, but it's pretty amu...       1\n",
            "56         83  There's not being ready to go on camera. And t...       1\n",
            "81        124  Some might say that no matter how rich you are...       1\n",
            "114       176  Hunky mensch who took down violent bully looks...       1\n",
            "140       218  The leader of the Catholic Church has assured ...       1\n",
            "...       ...                                                ...     ...\n",
            "1669     2514  So… Rebecca Schoenkopf over at Wonkette is pre...       1\n",
            "1670     2515  Et si Dieu était une femme? C'est ce qu'affirm...       1\n",
            "1671     2519  On Friday, a rumor cropped up that one of the ...       1\n",
            "1673     2521  The hoax story has been circulating far and wi...       1\n",
            "1679     2529  While Daleks \"know no fear\" and \"must not fear...       1\n",
            "\n",
            "[291 rows x 3 columns]\n",
            "      Body ID                                        articleBody  bodyDs\n",
            "0           0  A small meteorite crashed into a wooded area i...       1\n",
            "1           4  Last week we hinted at what was to come as Ebo...       1\n",
            "2           5  (NEWSER) – Wonder how long a Quarter Pounder w...       1\n",
            "3           6  Posting photos of a gun-toting child online, I...       1\n",
            "4           7  At least 25 suspected Boko Haram insurgents we...       1\n",
            "...       ...                                                ...     ...\n",
            "1677     2526  Update: Since the publication of this article,...       1\n",
            "1678     2528  Intelligence agencies hunting for identity of ...       1\n",
            "1680     2530  More than 200 schoolgirls were kidnapped in Ap...       1\n",
            "1681     2531  A Guantanamo Bay prisoner released last year a...       1\n",
            "1682     2532  ANN ARBOR, Mich. – A pizza delivery man in Mic...       1\n",
            "\n",
            "[1392 rows x 3 columns]\n"
          ]
        }
      ]
    },
    {
      "cell_type": "markdown",
      "source": [
        "### 3.1 Data augmentation for disagree class"
      ],
      "metadata": {
        "id": "6PuaTRAf8A7q"
      }
    },
    {
      "cell_type": "code",
      "source": [
        "!pip install deep-translator"
      ],
      "metadata": {
        "id": "JoFBILeWZEth",
        "colab": {
          "base_uri": "https://localhost:8080/"
        },
        "outputId": "b8515b49-16f6-472d-ef70-bc5fa36c6517"
      },
      "execution_count": null,
      "outputs": [
        {
          "output_type": "stream",
          "name": "stdout",
          "text": [
            "Collecting deep-translator\n",
            "  Downloading deep_translator-1.8.3-py3-none-any.whl (29 kB)\n",
            "Collecting beautifulsoup4<5.0.0,>=4.9.1\n",
            "  Downloading beautifulsoup4-4.11.1-py3-none-any.whl (128 kB)\n",
            "\u001b[K     |████████████████████████████████| 128 kB 8.5 MB/s \n",
            "\u001b[?25hRequirement already satisfied: requests<3.0.0,>=2.23.0 in /usr/local/lib/python3.7/dist-packages (from deep-translator) (2.23.0)\n",
            "Requirement already satisfied: soupsieve>1.2 in /usr/local/lib/python3.7/dist-packages (from beautifulsoup4<5.0.0,>=4.9.1->deep-translator) (2.3.2)\n",
            "Requirement already satisfied: chardet<4,>=3.0.2 in /usr/local/lib/python3.7/dist-packages (from requests<3.0.0,>=2.23.0->deep-translator) (3.0.4)\n",
            "Requirement already satisfied: idna<3,>=2.5 in /usr/local/lib/python3.7/dist-packages (from requests<3.0.0,>=2.23.0->deep-translator) (2.10)\n",
            "Requirement already satisfied: certifi>=2017.4.17 in /usr/local/lib/python3.7/dist-packages (from requests<3.0.0,>=2.23.0->deep-translator) (2021.10.8)\n",
            "Requirement already satisfied: urllib3!=1.25.0,!=1.25.1,<1.26,>=1.21.1 in /usr/local/lib/python3.7/dist-packages (from requests<3.0.0,>=2.23.0->deep-translator) (1.24.3)\n",
            "Installing collected packages: beautifulsoup4, deep-translator\n",
            "  Attempting uninstall: beautifulsoup4\n",
            "    Found existing installation: beautifulsoup4 4.6.3\n",
            "    Uninstalling beautifulsoup4-4.6.3:\n",
            "      Successfully uninstalled beautifulsoup4-4.6.3\n",
            "Successfully installed beautifulsoup4-4.11.1 deep-translator-1.8.3\n"
          ]
        }
      ]
    },
    {
      "cell_type": "code",
      "source": [
        "# augmenting the disagreeing headlines and body articles datasets by \n",
        "# 1) replacing words with synonyms\n",
        "# 2) machine translation\n",
        "import math\n",
        "import nltk\n",
        "from nltk.corpus import wordnet\n",
        "nltk.download('wordnet')\n",
        "nltk.download('stopwords')\n",
        "import random\n",
        "from deep_translator import GoogleTranslator\n",
        "from deep_translator import PonsTranslator\n",
        "\n",
        "# load nltk's English stopwords and don't find synonyms for these words.\n",
        "stop = nltk.corpus.stopwords.words('english')"
      ],
      "metadata": {
        "colab": {
          "base_uri": "https://localhost:8080/"
        },
        "id": "E4ScOswB52Nk",
        "outputId": "496312ea-273a-4a4f-9f64-3670723da753"
      },
      "execution_count": null,
      "outputs": [
        {
          "output_type": "stream",
          "name": "stdout",
          "text": [
            "[nltk_data] Downloading package wordnet to /root/nltk_data...\n",
            "[nltk_data]   Unzipping corpora/wordnet.zip.\n",
            "[nltk_data] Downloading package stopwords to /root/nltk_data...\n",
            "[nltk_data]   Unzipping corpora/stopwords.zip.\n"
          ]
        }
      ]
    },
    {
      "cell_type": "code",
      "source": [
        "# helper function for getting synonyms\n",
        "def get_synonyms(word):\n",
        "  word = word.lower()\n",
        "  synonyms = set()\n",
        "\n",
        "  for syn in wordnet.synsets(word):\n",
        "    for l in syn.lemmas():\n",
        "      synonym = l.name().replace(\"_\", \" \")\n",
        "      synonym = synonym.replace(\"-\", \" \")\n",
        "      synonym = synonym.lower()\n",
        "      # don't include stop words as part of the synonyms list\n",
        "      if synonym != word and synonym not in stop:\n",
        "        synonyms.add(synonym)\n",
        "\n",
        "  return list(synonyms)"
      ],
      "metadata": {
        "id": "1DzvH_1NGOW0"
      },
      "execution_count": null,
      "outputs": []
    },
    {
      "cell_type": "code",
      "source": [
        "# syns = get_synonyms(\"last\")\n",
        "# syns"
      ],
      "metadata": {
        "id": "8rFOWN6EIYES"
      },
      "execution_count": null,
      "outputs": []
    },
    {
      "cell_type": "code",
      "source": [
        "# input: \n",
        "#   words: headlines already tokenized\n",
        "#   n: the number of word replacements to do\n",
        "def synonym_replacement(words, n=None):\n",
        "  words = str(words)\n",
        "  words = words.split()\n",
        "  new_words = words.copy()\n",
        "  # don't find synonyms for stop words\n",
        "  random_word_list = list(set([word for word in words if word not in stop]))\n",
        "  random.shuffle(random_word_list)\n",
        "  if n == None:\n",
        "    word_list_len = len(random_word_list)\n",
        "    if word_list_len > 1:\n",
        "      n = int(word_list_len/2)\n",
        "    else:\n",
        "      n = 1\n",
        "  # print(f\"random word list: {random_word_list}\\n\")\n",
        "  num_replaced = 0\n",
        "  for random_word in random_word_list:\n",
        "    synonyms = get_synonyms(random_word)\n",
        "\n",
        "    if len(synonyms) >= 1:\n",
        "      synonym = random.choice(synonyms)\n",
        "      new_words = [synonym if word == random_word else word for word in new_words]\n",
        "      num_replaced += 1\n",
        "\n",
        "    # only replace up to n words\n",
        "    if num_replaced >= n:\n",
        "      break\n",
        "\n",
        "  text = ' '.join(new_words)\n",
        "\n",
        "  return text"
      ],
      "metadata": {
        "id": "0eFrZNGRLDVV"
      },
      "execution_count": null,
      "outputs": []
    },
    {
      "cell_type": "code",
      "source": [
        "headline = df_stances_train_disagree.iloc[4]['Headline']\n",
        "print(headline)\n",
        "headline = synonym_replacement(headline)\n",
        "print(headline)"
      ],
      "metadata": {
        "colab": {
          "base_uri": "https://localhost:8080/"
        },
        "id": "bbQYGKn_Y1p2",
        "outputId": "5c546d07-b220-42fe-e86e-7c5eb17ccb4d"
      },
      "execution_count": null,
      "outputs": [
        {
          "output_type": "stream",
          "name": "stdout",
          "text": [
            "Weather Reporter Caught Writing His Name In The Snow Was NOT Ready To Go On Camera (UPDATED)\n",
            "atmospheric condition newsperson enchant drop a line His identify In The Snow comprise NOT cook To go bad On Camera (UPDATED)\n"
          ]
        }
      ]
    },
    {
      "cell_type": "code",
      "source": [
        "def translate(words):\n",
        "  # google translate has a 5k character limit\n",
        "  lim = 2500\n",
        "  word_batches = []\n",
        "  if len(words) > lim:\n",
        "    num_groups = math.ceil(len(words)/lim)\n",
        "    index_s = 0\n",
        "    index_f = lim\n",
        "    for i in range(num_groups):\n",
        "      if i < num_groups - 1:\n",
        "        word_batch = words[index_s:index_f]\n",
        "        index_s += lim\n",
        "        index_f += lim\n",
        "      if i == num_groups - 1:\n",
        "        word_batch = words[index_s:]\n",
        "      word_batches.append(word_batch)\n",
        "  else:\n",
        "    word_batches.append(words)\n",
        "\n",
        "  lang_1_list = ['greek', 'polish', 'japanese', 'haitian creole', 'finnish']\n",
        "  lang_2_list = ['hebrew', 'arabic', 'chinese (simplified)', 'danish', 'czech']\n",
        "  #lang_3_list = ['icelandic', 'russian', 'malay', 'french', 'portuguese']\n",
        "  lang_1 = random.choice(lang_1_list)\n",
        "  lang_2 = random.choice(lang_2_list)\n",
        "  #lang_3 = random.choice(lang_3_list)\n",
        "\n",
        "  new_words = []\n",
        "  for word in word_batches:\n",
        "    new_word = GoogleTranslator(source='auto', target=lang_1).translate(word)\n",
        "    new_word = GoogleTranslator(source='auto', target=lang_2).translate(new_word)\n",
        "    #new_word = GoogleTranslator(source='auto', target=lang_3).translate(new_word)\n",
        "    new_word = GoogleTranslator(source='auto', target='english').translate(new_word)\n",
        "    new_words.append(new_word)\n",
        "  \n",
        "  final_words = \" \".join(new_words)\n",
        "  \n",
        "  return final_words"
      ],
      "metadata": {
        "id": "k0smcjczZvs2"
      },
      "execution_count": null,
      "outputs": []
    },
    {
      "cell_type": "code",
      "source": [
        "def text_transform(words):\n",
        "  new_words = synonym_replacement(words)\n",
        "  new_words = translate(new_words)\n",
        "  print(f'words: {words}\\n\\nnew words: {new_words}\\n-------------------------------------------\\n')\n",
        "  return new_words"
      ],
      "metadata": {
        "id": "4-eaq7zLjuPN"
      },
      "execution_count": null,
      "outputs": []
    },
    {
      "cell_type": "code",
      "source": [
        "# verifying text transform function\n",
        "sample_body = df_body_train_disagree.iloc[1]['articleBody']\n",
        "new_sample_body = text_transform(sample_body)\n",
        "# print(f\"sample_body: {sample_body}\\nnew_sample_body: {new_sample_body}\")"
      ],
      "metadata": {
        "colab": {
          "base_uri": "https://localhost:8080/"
        },
        "id": "xiuQ_iHVkI4F",
        "outputId": "3fb97f38-c91c-49f1-deb3-865d15c562b5"
      },
      "execution_count": null,
      "outputs": [
        {
          "output_type": "stream",
          "name": "stdout",
          "text": [
            "words: There's not being ready to go on camera. And then there's really, really not being ready. Like, not even a little bit.\n",
            "\n",
            "This was the unfortunate case experienced by meteorologist Mike Seidel this weekend while reporting on the stormy weather in North Carolina.\n",
            "\n",
            "There has been some speculation as to what Mike was or was not doing. Think what you will:\n",
            "\n",
            "H/T FTVLive\n",
            "\n",
            "UPDATE: Nov. 4-- Brian Williams issued a statement during \"Nightly News\" Monday night to clear up the confusion about what Seidel was actually doing.\n",
            "\n",
            "\"Mike had lost cellphone contact with our control room, so he couldn’t hear through his attached earpiece that he was on the air,\" Williams said. \"He put his back to the storm and the camera -- he had to take off his gloves and re-dial his phone which was tethered to his ear, that’s when the rumors hit the web that he was perhaps writing his name in the snow. It was just Mike working to make it right — which is why we all love working with Mike Seidel.”\n",
            "\n",
            "Watch below:\n",
            "\n",
            "new words: There is no live camera on the camera. Then there really is, honestly not being prepared. Like, do not wash for a while. It was an ominous live costume from the meteorologist Seidel's microphone over the weekend, while covering the stormy wind in North Carolina. There is a guess as to what the microphone did or did not do. Call Whatever You Want: H / T FTVLive Updated: November 4th. \"Mike got confused with our booth in our room, so he could not find out through his headphones that he's in the air,\" Thomas told Paper Williams. \"He put his spine in a storm and the TV camera - he had to take off his gloves and call back to a voice that was tied to his ear, so rumor spread on the global network that he was probably tied. Writing his discovery in the snow.\" Information technology only created a microphone to seduce him like That's the reason we all make Seidel's microphone. \"\n",
            "-------------------------------------------\n",
            "\n"
          ]
        }
      ]
    },
    {
      "cell_type": "code",
      "source": [
        "# augment disagree stance data set to be same length as agree dataset\n",
        "len_agree = len(df_stances_train_agree)\n",
        "len_disagree = len(df_stances_train_disagree)\n",
        "diff_factor = int(len_agree/len_disagree)\n",
        "print(diff_factor)"
      ],
      "metadata": {
        "colab": {
          "base_uri": "https://localhost:8080/"
        },
        "id": "n2X56nlsbjj9",
        "outputId": "40d453ce-5ebd-41a7-c146-cb471cb19954"
      },
      "execution_count": null,
      "outputs": [
        {
          "output_type": "stream",
          "name": "stdout",
          "text": [
            "4\n"
          ]
        }
      ]
    },
    {
      "cell_type": "code",
      "source": [
        "# synonym replacement the disagree headlines 4 times\n",
        "# final disagree stance dataset length will be 5x original\n",
        "\n",
        "# make a list of dataframes\n",
        "df_temps = []\n",
        "\n",
        "for i in range(diff_factor):\n",
        "  df_temps.append(df_stances_train_disagree.copy())\n",
        "\n",
        "for i in range(diff_factor):\n",
        "  df_temps[i][\"Headline\"] = df_temps[i]['Headline'].apply(synonym_replacement)\n",
        "  df_temps[i][\"bodyDs\"] = df_temps[i][\"bodyDs\"].apply(lambda x: x + i + 1)\n",
        "  df_stances_train_disagree = pd.concat([df_stances_train_disagree, df_temps[i]])"
      ],
      "metadata": {
        "id": "BZas2WujmmPv"
      },
      "execution_count": null,
      "outputs": []
    },
    {
      "cell_type": "code",
      "source": [
        "df_stances_train_disagree = df_stances_train_disagree.drop_duplicates()"
      ],
      "metadata": {
        "id": "xzy12eAAnchI"
      },
      "execution_count": null,
      "outputs": []
    },
    {
      "cell_type": "code",
      "source": [
        "df_stances_train_filtered = pd.concat([df_stances_train_agree, df_stances_train_disagree, df_stances_train_discuss])"
      ],
      "metadata": {
        "id": "A96qBwHkoOQB"
      },
      "execution_count": null,
      "outputs": []
    },
    {
      "cell_type": "code",
      "source": [
        "from sklearn.utils import shuffle\n",
        "df_stances_train_filtered = shuffle(df_stances_train_filtered)"
      ],
      "metadata": {
        "id": "O2aiuamPrMD5"
      },
      "execution_count": null,
      "outputs": []
    },
    {
      "cell_type": "code",
      "source": [
        "df_stances_train_filtered.reset_index(drop=True, inplace=True)"
      ],
      "metadata": {
        "id": "h62HPXBYfert"
      },
      "execution_count": null,
      "outputs": []
    },
    {
      "cell_type": "code",
      "source": [
        "df_stances_train_filtered"
      ],
      "metadata": {
        "colab": {
          "base_uri": "https://localhost:8080/",
          "height": 424
        },
        "id": "y7UWzIYSg126",
        "outputId": "d772843e-3622-47c8-b1dd-b0a8b4e3f545"
      },
      "execution_count": null,
      "outputs": [
        {
          "output_type": "execute_result",
          "data": {
            "text/plain": [
              "                                                Headline  Body ID    Stance  \\\n",
              "0      Batmobile Stolen From \"Batman v Superman: Dawn...     1538   discuss   \n",
              "1      Meteorite makes big crater in Nicaragua, gover...      221     agree   \n",
              "2      Surreal Photos of Fisherman’s Jaw-Dropping Cat...      842   discuss   \n",
              "3                           Comcast Declares War on Tor?     1403   discuss   \n",
              "4      An Audio Recording of the Michael Brown Shooti...     1916   discuss   \n",
              "...                                                  ...      ...       ...   \n",
              "16771  Nigeria: hopes for return of kidnapped schoolg...     1298   discuss   \n",
              "16772         Amazon plans a streaming-video alternative     2152   discuss   \n",
              "16773  more than than 200 kidnap nigerien female chil...     1885  disagree   \n",
              "16774  Jilted lover spends a week in KFC to try and g...     1551     agree   \n",
              "16775  Guantanamo Detainee Exchanged for American POW...     2207   discuss   \n",
              "\n",
              "       bodyDs  \n",
              "0           1  \n",
              "1           1  \n",
              "2           1  \n",
              "3           1  \n",
              "4           1  \n",
              "...       ...  \n",
              "16771       1  \n",
              "16772       1  \n",
              "16773       3  \n",
              "16774       1  \n",
              "16775       1  \n",
              "\n",
              "[16776 rows x 4 columns]"
            ],
            "text/html": [
              "\n",
              "  <div id=\"df-68dc7789-74f5-4a1a-93cb-31e5e3d5fb23\">\n",
              "    <div class=\"colab-df-container\">\n",
              "      <div>\n",
              "<style scoped>\n",
              "    .dataframe tbody tr th:only-of-type {\n",
              "        vertical-align: middle;\n",
              "    }\n",
              "\n",
              "    .dataframe tbody tr th {\n",
              "        vertical-align: top;\n",
              "    }\n",
              "\n",
              "    .dataframe thead th {\n",
              "        text-align: right;\n",
              "    }\n",
              "</style>\n",
              "<table border=\"1\" class=\"dataframe\">\n",
              "  <thead>\n",
              "    <tr style=\"text-align: right;\">\n",
              "      <th></th>\n",
              "      <th>Headline</th>\n",
              "      <th>Body ID</th>\n",
              "      <th>Stance</th>\n",
              "      <th>bodyDs</th>\n",
              "    </tr>\n",
              "  </thead>\n",
              "  <tbody>\n",
              "    <tr>\n",
              "      <th>0</th>\n",
              "      <td>Batmobile Stolen From \"Batman v Superman: Dawn...</td>\n",
              "      <td>1538</td>\n",
              "      <td>discuss</td>\n",
              "      <td>1</td>\n",
              "    </tr>\n",
              "    <tr>\n",
              "      <th>1</th>\n",
              "      <td>Meteorite makes big crater in Nicaragua, gover...</td>\n",
              "      <td>221</td>\n",
              "      <td>agree</td>\n",
              "      <td>1</td>\n",
              "    </tr>\n",
              "    <tr>\n",
              "      <th>2</th>\n",
              "      <td>Surreal Photos of Fisherman’s Jaw-Dropping Cat...</td>\n",
              "      <td>842</td>\n",
              "      <td>discuss</td>\n",
              "      <td>1</td>\n",
              "    </tr>\n",
              "    <tr>\n",
              "      <th>3</th>\n",
              "      <td>Comcast Declares War on Tor?</td>\n",
              "      <td>1403</td>\n",
              "      <td>discuss</td>\n",
              "      <td>1</td>\n",
              "    </tr>\n",
              "    <tr>\n",
              "      <th>4</th>\n",
              "      <td>An Audio Recording of the Michael Brown Shooti...</td>\n",
              "      <td>1916</td>\n",
              "      <td>discuss</td>\n",
              "      <td>1</td>\n",
              "    </tr>\n",
              "    <tr>\n",
              "      <th>...</th>\n",
              "      <td>...</td>\n",
              "      <td>...</td>\n",
              "      <td>...</td>\n",
              "      <td>...</td>\n",
              "    </tr>\n",
              "    <tr>\n",
              "      <th>16771</th>\n",
              "      <td>Nigeria: hopes for return of kidnapped schoolg...</td>\n",
              "      <td>1298</td>\n",
              "      <td>discuss</td>\n",
              "      <td>1</td>\n",
              "    </tr>\n",
              "    <tr>\n",
              "      <th>16772</th>\n",
              "      <td>Amazon plans a streaming-video alternative</td>\n",
              "      <td>2152</td>\n",
              "      <td>discuss</td>\n",
              "      <td>1</td>\n",
              "    </tr>\n",
              "    <tr>\n",
              "      <th>16773</th>\n",
              "      <td>more than than 200 kidnap nigerien female chil...</td>\n",
              "      <td>1885</td>\n",
              "      <td>disagree</td>\n",
              "      <td>3</td>\n",
              "    </tr>\n",
              "    <tr>\n",
              "      <th>16774</th>\n",
              "      <td>Jilted lover spends a week in KFC to try and g...</td>\n",
              "      <td>1551</td>\n",
              "      <td>agree</td>\n",
              "      <td>1</td>\n",
              "    </tr>\n",
              "    <tr>\n",
              "      <th>16775</th>\n",
              "      <td>Guantanamo Detainee Exchanged for American POW...</td>\n",
              "      <td>2207</td>\n",
              "      <td>discuss</td>\n",
              "      <td>1</td>\n",
              "    </tr>\n",
              "  </tbody>\n",
              "</table>\n",
              "<p>16776 rows × 4 columns</p>\n",
              "</div>\n",
              "      <button class=\"colab-df-convert\" onclick=\"convertToInteractive('df-68dc7789-74f5-4a1a-93cb-31e5e3d5fb23')\"\n",
              "              title=\"Convert this dataframe to an interactive table.\"\n",
              "              style=\"display:none;\">\n",
              "        \n",
              "  <svg xmlns=\"http://www.w3.org/2000/svg\" height=\"24px\"viewBox=\"0 0 24 24\"\n",
              "       width=\"24px\">\n",
              "    <path d=\"M0 0h24v24H0V0z\" fill=\"none\"/>\n",
              "    <path d=\"M18.56 5.44l.94 2.06.94-2.06 2.06-.94-2.06-.94-.94-2.06-.94 2.06-2.06.94zm-11 1L8.5 8.5l.94-2.06 2.06-.94-2.06-.94L8.5 2.5l-.94 2.06-2.06.94zm10 10l.94 2.06.94-2.06 2.06-.94-2.06-.94-.94-2.06-.94 2.06-2.06.94z\"/><path d=\"M17.41 7.96l-1.37-1.37c-.4-.4-.92-.59-1.43-.59-.52 0-1.04.2-1.43.59L10.3 9.45l-7.72 7.72c-.78.78-.78 2.05 0 2.83L4 21.41c.39.39.9.59 1.41.59.51 0 1.02-.2 1.41-.59l7.78-7.78 2.81-2.81c.8-.78.8-2.07 0-2.86zM5.41 20L4 18.59l7.72-7.72 1.47 1.35L5.41 20z\"/>\n",
              "  </svg>\n",
              "      </button>\n",
              "      \n",
              "  <style>\n",
              "    .colab-df-container {\n",
              "      display:flex;\n",
              "      flex-wrap:wrap;\n",
              "      gap: 12px;\n",
              "    }\n",
              "\n",
              "    .colab-df-convert {\n",
              "      background-color: #E8F0FE;\n",
              "      border: none;\n",
              "      border-radius: 50%;\n",
              "      cursor: pointer;\n",
              "      display: none;\n",
              "      fill: #1967D2;\n",
              "      height: 32px;\n",
              "      padding: 0 0 0 0;\n",
              "      width: 32px;\n",
              "    }\n",
              "\n",
              "    .colab-df-convert:hover {\n",
              "      background-color: #E2EBFA;\n",
              "      box-shadow: 0px 1px 2px rgba(60, 64, 67, 0.3), 0px 1px 3px 1px rgba(60, 64, 67, 0.15);\n",
              "      fill: #174EA6;\n",
              "    }\n",
              "\n",
              "    [theme=dark] .colab-df-convert {\n",
              "      background-color: #3B4455;\n",
              "      fill: #D2E3FC;\n",
              "    }\n",
              "\n",
              "    [theme=dark] .colab-df-convert:hover {\n",
              "      background-color: #434B5C;\n",
              "      box-shadow: 0px 1px 3px 1px rgba(0, 0, 0, 0.15);\n",
              "      filter: drop-shadow(0px 1px 2px rgba(0, 0, 0, 0.3));\n",
              "      fill: #FFFFFF;\n",
              "    }\n",
              "  </style>\n",
              "\n",
              "      <script>\n",
              "        const buttonEl =\n",
              "          document.querySelector('#df-68dc7789-74f5-4a1a-93cb-31e5e3d5fb23 button.colab-df-convert');\n",
              "        buttonEl.style.display =\n",
              "          google.colab.kernel.accessAllowed ? 'block' : 'none';\n",
              "\n",
              "        async function convertToInteractive(key) {\n",
              "          const element = document.querySelector('#df-68dc7789-74f5-4a1a-93cb-31e5e3d5fb23');\n",
              "          const dataTable =\n",
              "            await google.colab.kernel.invokeFunction('convertToInteractive',\n",
              "                                                     [key], {});\n",
              "          if (!dataTable) return;\n",
              "\n",
              "          const docLinkHtml = 'Like what you see? Visit the ' +\n",
              "            '<a target=\"_blank\" href=https://colab.research.google.com/notebooks/data_table.ipynb>data table notebook</a>'\n",
              "            + ' to learn more about interactive tables.';\n",
              "          element.innerHTML = '';\n",
              "          dataTable['output_type'] = 'display_data';\n",
              "          await google.colab.output.renderOutput(dataTable, element);\n",
              "          const docLink = document.createElement('div');\n",
              "          docLink.innerHTML = docLinkHtml;\n",
              "          element.appendChild(docLink);\n",
              "        }\n",
              "      </script>\n",
              "    </div>\n",
              "  </div>\n",
              "  "
            ]
          },
          "metadata": {},
          "execution_count": 31
        }
      ]
    },
    {
      "cell_type": "code",
      "source": [
        "print(f\"length of filtered training set: {len(df_stances_train_filtered)}\")\n",
        "sns.countplot(df_stances_train_filtered.Stance)\n",
        "plt.xlabel('article stance')"
      ],
      "metadata": {
        "colab": {
          "base_uri": "https://localhost:8080/",
          "height": 599
        },
        "id": "q5Ef0Dm_pxGt",
        "outputId": "5c33aa68-1992-4f1d-84c0-fb5cb5bbb4b5"
      },
      "execution_count": null,
      "outputs": [
        {
          "output_type": "stream",
          "name": "stdout",
          "text": [
            "length of filtered training set: 16776\n"
          ]
        },
        {
          "output_type": "stream",
          "name": "stderr",
          "text": [
            "/usr/local/lib/python3.7/dist-packages/seaborn/_decorators.py:43: FutureWarning: Pass the following variable as a keyword arg: x. From version 0.12, the only valid positional argument will be `data`, and passing other arguments without an explicit keyword will result in an error or misinterpretation.\n",
            "  FutureWarning\n"
          ]
        },
        {
          "output_type": "execute_result",
          "data": {
            "text/plain": [
              "Text(0.5, 0, 'article stance')"
            ]
          },
          "metadata": {},
          "execution_count": 32
        },
        {
          "output_type": "display_data",
          "data": {
            "text/plain": [
              "<Figure size 864x576 with 1 Axes>"
            ],
            "image/png": "[encoded data removed]"
          },
          "metadata": {
            "image/png": {
              "width": 745,
              "height": 489
            }
          }
        }
      ]
    },
    {
      "cell_type": "code",
      "source": [
        "# # text transform the disagree body articles 1 time\n",
        "# df_temp = df_body_train_disagree.copy()\n",
        "# df_temp['articleBody'] = df_temp['articleBody'].apply(text_transform)\n",
        "# df_temp['bodyDs'] = df_temp['bodyDs'].apply(lambda x: x + 1)\n",
        "# df_body_train_disagree = pd.concat([df_body_train_disagree, df_temp])"
      ],
      "metadata": {
        "id": "Spmx3li3oSRz"
      },
      "execution_count": null,
      "outputs": []
    },
    {
      "cell_type": "code",
      "source": [
        "df_temp = pd.read_csv('translated_train_bodies.csv')\n",
        "df_body_train_disagree = pd.concat([df_body_train_disagree, df_temp])"
      ],
      "metadata": {
        "id": "iglB7t-m26d6"
      },
      "execution_count": null,
      "outputs": []
    },
    {
      "cell_type": "code",
      "source": [
        "df_body_train_filtered = pd.concat([df_body_train_rest, df_body_train_disagree])"
      ],
      "metadata": {
        "id": "hHuf1UNSfB10"
      },
      "execution_count": null,
      "outputs": []
    },
    {
      "cell_type": "code",
      "source": [
        "df_body_train_filtered.loc[df_body_train_filtered['Body ID'] == 2514]\n"
      ],
      "metadata": {
        "colab": {
          "base_uri": "https://localhost:8080/",
          "height": 112
        },
        "id": "lZJJkr7-h8mj",
        "outputId": "1d0c253c-49b2-41d1-f3c1-66b0499ad62c"
      },
      "execution_count": null,
      "outputs": [
        {
          "output_type": "execute_result",
          "data": {
            "text/plain": [
              "      Body ID                                        articleBody  bodyDs\n",
              "1669     2514  So… Rebecca Schoenkopf over at Wonkette is pre...       1\n",
              "286      2514  So...rebekah Schoenkopf in Wonkette is pretty ...       2"
            ],
            "text/html": [
              "\n",
              "  <div id=\"df-ce1e6474-8572-4f7c-9c0c-68c525bceed0\">\n",
              "    <div class=\"colab-df-container\">\n",
              "      <div>\n",
              "<style scoped>\n",
              "    .dataframe tbody tr th:only-of-type {\n",
              "        vertical-align: middle;\n",
              "    }\n",
              "\n",
              "    .dataframe tbody tr th {\n",
              "        vertical-align: top;\n",
              "    }\n",
              "\n",
              "    .dataframe thead th {\n",
              "        text-align: right;\n",
              "    }\n",
              "</style>\n",
              "<table border=\"1\" class=\"dataframe\">\n",
              "  <thead>\n",
              "    <tr style=\"text-align: right;\">\n",
              "      <th></th>\n",
              "      <th>Body ID</th>\n",
              "      <th>articleBody</th>\n",
              "      <th>bodyDs</th>\n",
              "    </tr>\n",
              "  </thead>\n",
              "  <tbody>\n",
              "    <tr>\n",
              "      <th>1669</th>\n",
              "      <td>2514</td>\n",
              "      <td>So… Rebecca Schoenkopf over at Wonkette is pre...</td>\n",
              "      <td>1</td>\n",
              "    </tr>\n",
              "    <tr>\n",
              "      <th>286</th>\n",
              "      <td>2514</td>\n",
              "      <td>So...rebekah Schoenkopf in Wonkette is pretty ...</td>\n",
              "      <td>2</td>\n",
              "    </tr>\n",
              "  </tbody>\n",
              "</table>\n",
              "</div>\n",
              "      <button class=\"colab-df-convert\" onclick=\"convertToInteractive('df-ce1e6474-8572-4f7c-9c0c-68c525bceed0')\"\n",
              "              title=\"Convert this dataframe to an interactive table.\"\n",
              "              style=\"display:none;\">\n",
              "        \n",
              "  <svg xmlns=\"http://www.w3.org/2000/svg\" height=\"24px\"viewBox=\"0 0 24 24\"\n",
              "       width=\"24px\">\n",
              "    <path d=\"M0 0h24v24H0V0z\" fill=\"none\"/>\n",
              "    <path d=\"M18.56 5.44l.94 2.06.94-2.06 2.06-.94-2.06-.94-.94-2.06-.94 2.06-2.06.94zm-11 1L8.5 8.5l.94-2.06 2.06-.94-2.06-.94L8.5 2.5l-.94 2.06-2.06.94zm10 10l.94 2.06.94-2.06 2.06-.94-2.06-.94-.94-2.06-.94 2.06-2.06.94z\"/><path d=\"M17.41 7.96l-1.37-1.37c-.4-.4-.92-.59-1.43-.59-.52 0-1.04.2-1.43.59L10.3 9.45l-7.72 7.72c-.78.78-.78 2.05 0 2.83L4 21.41c.39.39.9.59 1.41.59.51 0 1.02-.2 1.41-.59l7.78-7.78 2.81-2.81c.8-.78.8-2.07 0-2.86zM5.41 20L4 18.59l7.72-7.72 1.47 1.35L5.41 20z\"/>\n",
              "  </svg>\n",
              "      </button>\n",
              "      \n",
              "  <style>\n",
              "    .colab-df-container {\n",
              "      display:flex;\n",
              "      flex-wrap:wrap;\n",
              "      gap: 12px;\n",
              "    }\n",
              "\n",
              "    .colab-df-convert {\n",
              "      background-color: #E8F0FE;\n",
              "      border: none;\n",
              "      border-radius: 50%;\n",
              "      cursor: pointer;\n",
              "      display: none;\n",
              "      fill: #1967D2;\n",
              "      height: 32px;\n",
              "      padding: 0 0 0 0;\n",
              "      width: 32px;\n",
              "    }\n",
              "\n",
              "    .colab-df-convert:hover {\n",
              "      background-color: #E2EBFA;\n",
              "      box-shadow: 0px 1px 2px rgba(60, 64, 67, 0.3), 0px 1px 3px 1px rgba(60, 64, 67, 0.15);\n",
              "      fill: #174EA6;\n",
              "    }\n",
              "\n",
              "    [theme=dark] .colab-df-convert {\n",
              "      background-color: #3B4455;\n",
              "      fill: #D2E3FC;\n",
              "    }\n",
              "\n",
              "    [theme=dark] .colab-df-convert:hover {\n",
              "      background-color: #434B5C;\n",
              "      box-shadow: 0px 1px 3px 1px rgba(0, 0, 0, 0.15);\n",
              "      filter: drop-shadow(0px 1px 2px rgba(0, 0, 0, 0.3));\n",
              "      fill: #FFFFFF;\n",
              "    }\n",
              "  </style>\n",
              "\n",
              "      <script>\n",
              "        const buttonEl =\n",
              "          document.querySelector('#df-ce1e6474-8572-4f7c-9c0c-68c525bceed0 button.colab-df-convert');\n",
              "        buttonEl.style.display =\n",
              "          google.colab.kernel.accessAllowed ? 'block' : 'none';\n",
              "\n",
              "        async function convertToInteractive(key) {\n",
              "          const element = document.querySelector('#df-ce1e6474-8572-4f7c-9c0c-68c525bceed0');\n",
              "          const dataTable =\n",
              "            await google.colab.kernel.invokeFunction('convertToInteractive',\n",
              "                                                     [key], {});\n",
              "          if (!dataTable) return;\n",
              "\n",
              "          const docLinkHtml = 'Like what you see? Visit the ' +\n",
              "            '<a target=\"_blank\" href=https://colab.research.google.com/notebooks/data_table.ipynb>data table notebook</a>'\n",
              "            + ' to learn more about interactive tables.';\n",
              "          element.innerHTML = '';\n",
              "          dataTable['output_type'] = 'display_data';\n",
              "          await google.colab.output.renderOutput(dataTable, element);\n",
              "          const docLink = document.createElement('div');\n",
              "          docLink.innerHTML = docLinkHtml;\n",
              "          element.appendChild(docLink);\n",
              "        }\n",
              "      </script>\n",
              "    </div>\n",
              "  </div>\n",
              "  "
            ]
          },
          "metadata": {},
          "execution_count": 36
        }
      ]
    },
    {
      "cell_type": "markdown",
      "source": [
        "### 2. Tokenization"
      ],
      "metadata": {
        "id": "SeMU3H1y2qox"
      }
    },
    {
      "cell_type": "code",
      "execution_count": null,
      "metadata": {
        "id": "IeMQXnkxhS1j",
        "colab": {
          "base_uri": "https://localhost:8080/",
          "height": 113,
          "referenced_widgets": [
            "8ae50db0cfb84c12be847a6721765d44",
            "5ae0ceb1eecb4cc790292c6e5f77e795",
            "6fa7094ad5c44b1bafd95bb1648b2b4b",
            "3728ddfd462545e69ab70d2e03262b4a",
            "41afd91f5e4449ce90c62f5d85e34af6",
            "2e791dc7769d4942a800b70f39e96696",
            "68cbfd2d010647c4ac439a293efb7832",
            "df089256613e46a1866d0ebf9a22d3c1",
            "ea72b99cad8a49919ca9791c88d1cb05",
            "53d58e239457435cbd08a3cb4560042b",
            "e21c164469f1426587da6567b8ecd611",
            "65295efbd7214dc085bfaac86d46606e",
            "580dd3babf504594b73472fb5202e707",
            "bde691aa7a034f5ebdd60edde09171b8",
            "467d91295ddf486389fbb70c99f91e00",
            "e87a2a1c1fa94e80933d1f79541c3397",
            "a8942930e5d246089e4b34c879496f44",
            "dd7dbd41b52342d6821e736ad751cc30",
            "553b87d6a7d041e5b4ad525c7a25ed90",
            "a44fbf6445404e48b09dc78977019bd3",
            "9ef0a4e5e73147a89a6084b61f99a107",
            "d304526bb804408da1792d24167c2ecb",
            "9748c22a375641aaaf80f84b224cf829",
            "d462b86084804c278e1ce0f9ae582f03",
            "fd253475c6484f7c9e6fc81b19b984f0",
            "6ff0871e54e946e9a0951ab5be82dbf8",
            "dbf78c8a0d684ceb9e8970862f08ec80",
            "28dd77b62fba4565996e6ecf218a7ad7",
            "87c7242f8e1241ac991b6164b268d790",
            "52c4885bb91f4c5abda3375eb3ce6dbd",
            "02f7c9421940465da073bb63bfa95eea",
            "d8ed8845816345909ef977a53e7704fa",
            "eaa54dc292d8498cac91a4ac58718db7"
          ]
        },
        "outputId": "e1dd09ee-f82e-4298-c67f-f62e4ebe7610"
      },
      "outputs": [
        {
          "output_type": "display_data",
          "data": {
            "text/plain": [
              "Downloading:   0%|          | 0.00/208k [00:00<?, ?B/s]"
            ],
            "application/vnd.jupyter.widget-view+json": {
              "version_major": 2,
              "version_minor": 0,
              "model_id": "8ae50db0cfb84c12be847a6721765d44"
            }
          },
          "metadata": {}
        },
        {
          "output_type": "display_data",
          "data": {
            "text/plain": [
              "Downloading:   0%|          | 0.00/29.0 [00:00<?, ?B/s]"
            ],
            "application/vnd.jupyter.widget-view+json": {
              "version_major": 2,
              "version_minor": 0,
              "model_id": "65295efbd7214dc085bfaac86d46606e"
            }
          },
          "metadata": {}
        },
        {
          "output_type": "display_data",
          "data": {
            "text/plain": [
              "Downloading:   0%|          | 0.00/570 [00:00<?, ?B/s]"
            ],
            "application/vnd.jupyter.widget-view+json": {
              "version_major": 2,
              "version_minor": 0,
              "model_id": "9748c22a375641aaaf80f84b224cf829"
            }
          },
          "metadata": {}
        }
      ],
      "source": [
        "pretrained_model_name = 'bert-base-cased'\n",
        "tokenizer = BertTokenizer.from_pretrained(pretrained_model_name)"
      ]
    },
    {
      "cell_type": "code",
      "execution_count": null,
      "metadata": {
        "id": "M9GP8RtThp9n",
        "colab": {
          "base_uri": "https://localhost:8080/",
          "height": 563
        },
        "outputId": "30ec9a2b-5931-4c22-e20e-297b3a2d5244"
      },
      "outputs": [
        {
          "output_type": "stream",
          "name": "stderr",
          "text": [
            "/usr/local/lib/python3.7/dist-packages/seaborn/distributions.py:2619: FutureWarning: `distplot` is a deprecated function and will be removed in a future version. Please adapt your code to use either `displot` (a figure-level function with similar flexibility) or `histplot` (an axes-level function for histograms).\n",
            "  warnings.warn(msg, FutureWarning)\n"
          ]
        },
        {
          "output_type": "display_data",
          "data": {
            "text/plain": [
              "<Figure size 864x576 with 1 Axes>"
            ],
            "image/png": "[encoded data removed]"
          },
          "metadata": {
            "image/png": {
              "width": 749,
              "height": 489
            }
          }
        }
      ],
      "source": [
        "# choosing sequence length\n",
        "token_lens = []\n",
        "\n",
        "for txt in df_body_train.articleBody:\n",
        "  tokens = tokenizer.encode(txt, max_length=512)\n",
        "  token_lens.append(len(tokens))\n",
        "\n",
        "# plot distribution\n",
        "sns.distplot(token_lens)\n",
        "plt.xlim([0, 256]);\n",
        "plt.xlabel('Token count');"
      ]
    },
    {
      "cell_type": "code",
      "execution_count": null,
      "metadata": {
        "id": "_09JyboJkEW9"
      },
      "outputs": [],
      "source": [
        "max_len = 250"
      ]
    },
    {
      "cell_type": "markdown",
      "source": [
        "## Model Functions"
      ],
      "metadata": {
        "id": "JuyUalpI244x"
      }
    },
    {
      "cell_type": "code",
      "execution_count": null,
      "metadata": {
        "id": "E2BPgRJ7YBK0"
      },
      "outputs": [],
      "source": [
        "class ArticleDataset(Dataset):\n",
        "\n",
        "  # takes in headlines and bodies from the original corpus\n",
        "  # just send in the pandas dataframe\n",
        "  def __init__(self, headlines, bodies, tokenizer, max_len, ds_type='train'):\n",
        "    self.headlines = headlines\n",
        "    self.bodies = bodies\n",
        "    self.tokenizer = tokenizer\n",
        "    self.max_len = max_len\n",
        "    self.stances = ['agree', 'disagree', 'discuss']\n",
        "    self.ds_type = ds_type\n",
        "  \n",
        "  def __len__(self):\n",
        "    return len(self.headlines)\n",
        "  \n",
        "  # return the headline, body article, input_ids, attention masks, and stance\n",
        "  def __getitem__(self, item):\n",
        "    sample_headline = self.headlines.iloc[item, 0]\n",
        "    body_id = self.headlines.iloc[item, 1]\n",
        "    stance = self.stances.index(self.headlines.iloc[item, 2])\n",
        "    \n",
        "    if self.ds_type == 'train':\n",
        "      headline_ds = self.headlines.iloc[item, 3] # identifying augmented data\n",
        "      # original headlines -> original body articles\n",
        "      if headline_ds == 1:\n",
        "        sample_body = self.bodies.loc[(self.bodies[\"Body ID\"] == body_id) & (self.bodies['bodyDs'] == 1), \"articleBody\"].item()\n",
        "      # if the headline stance is disagree, it will have ds = [1:5], where ds = [2:5] are the augmented stances\n",
        "      elif 2 <= headline_ds <= 5:\n",
        "        if 2 <= headline_ds <= 3:\n",
        "          sample_body = self.bodies.loc[(self.bodies['Body ID'] == body_id) & (self.bodies['bodyDs'] == 1), 'articleBody'].item()\n",
        "        else:\n",
        "          sample_body = self.bodies.loc[(self.bodies['Body ID'] == body_id) & (self.bodies['bodyDs'] == 2), 'articleBody'].item()\n",
        "    elif self.ds_type == 'test':\n",
        "      sample_body = self.bodies.loc[self.bodies[\"Body ID\"] == body_id, \"articleBody\"].item()\n",
        "\n",
        "    encoding = self.tokenizer(\n",
        "      sample_headline,\n",
        "      sample_body,\n",
        "      max_length = max_len,\n",
        "      padding='max_length',\n",
        "      truncation = True,\n",
        "      return_tensors = 'pt',\n",
        "    )\n",
        "\n",
        "    return {\n",
        "      'headline': sample_headline,\n",
        "      'article_body': sample_body,\n",
        "      'input_ids': encoding['input_ids'].flatten(),\n",
        "      'attention_mask': encoding['attention_mask'].flatten(),\n",
        "      'stance': torch.tensor(stance)\n",
        "    }"
      ]
    },
    {
      "cell_type": "code",
      "execution_count": null,
      "metadata": {
        "id": "bP8AOOYrpDWF"
      },
      "outputs": [],
      "source": [
        "batch_size = 16"
      ]
    },
    {
      "cell_type": "code",
      "execution_count": null,
      "metadata": {
        "id": "YlJNJlaT25Zs"
      },
      "outputs": [],
      "source": [
        "# helper function to create a data loader\n",
        "def create_data_loader(df_s, df_b, tokenizer, max_len, batch_size, ds_type='train'):\n",
        "  ds = ArticleDataset(\n",
        "    headlines = df_s,\n",
        "    bodies = df_b,\n",
        "    tokenizer=tokenizer,\n",
        "    max_len=max_len,\n",
        "    ds_type=ds_type\n",
        "  )\n",
        "\n",
        "  return DataLoader(\n",
        "    ds,\n",
        "    batch_size=batch_size,\n",
        "    num_workers=2,\n",
        "  )"
      ]
    },
    {
      "cell_type": "code",
      "execution_count": null,
      "metadata": {
        "id": "y75stdDM5Mi6"
      },
      "outputs": [],
      "source": [
        "train_data_loader = create_data_loader(df_stances_train_filtered, df_body_train_filtered, tokenizer, max_len, batch_size, ds_type='train')\n",
        "test_data_loader = create_data_loader(df_stances_test_filtered, df_body_test, tokenizer, max_len, batch_size, ds_type='test')"
      ]
    },
    {
      "cell_type": "code",
      "execution_count": null,
      "metadata": {
        "id": "cSI7c5lor8pC"
      },
      "outputs": [],
      "source": [
        "class StanceClassifier(nn.Module):\n",
        "\n",
        "  def __init__(self, n_classes):\n",
        "    super(StanceClassifier, self).__init__()\n",
        "    self.bert = BertModel.from_pretrained(pretrained_model_name)\n",
        "    self.drop = nn.Dropout(p=0.3)\n",
        "    self.out = nn.Linear(self.bert.config.hidden_size, n_classes)\n",
        "\n",
        "  def forward(self, input_ids, attention_mask):\n",
        "    X = self.bert(\n",
        "        input_ids = input_ids,\n",
        "        attention_mask = attention_mask,\n",
        "    )\n",
        "  \n",
        "    output = self.drop(X[1])\n",
        "    return self.out(output)"
      ]
    },
    {
      "cell_type": "code",
      "execution_count": null,
      "metadata": {
        "id": "kd5hodzJtmmu",
        "colab": {
          "base_uri": "https://localhost:8080/",
          "height": 49,
          "referenced_widgets": [
            "f3acfc87b30c4c4fb2eb6d5c36865d16",
            "7fe0bbc6be084535a26f9e6ded432378",
            "8ca5f54e832440c28248b69d158cbad6",
            "f6ff3375a52647e38da4dcc506d346ed",
            "e0daf61dded145c18892ebc03f6beeb7",
            "53a41354bbb0458a8fd063c7f43eb84e",
            "514cc2cfe5a54cdab9b8f05a8becec33",
            "dee4468c9f5444858cb7a5e15d8eaf3d",
            "d874b008c0d54f3a970b816d8de67d6f",
            "f6bac31e5b3c48f9aadb88be05b559a4",
            "bc4078112fd247b7b45637631fc0af96"
          ]
        },
        "outputId": "b402e8ae-b177-49f2-aaf7-b0b8dbe58216"
      },
      "outputs": [
        {
          "output_type": "display_data",
          "data": {
            "text/plain": [
              "Downloading:   0%|          | 0.00/416M [00:00<?, ?B/s]"
            ],
            "application/vnd.jupyter.widget-view+json": {
              "version_major": 2,
              "version_minor": 0,
              "model_id": "f3acfc87b30c4c4fb2eb6d5c36865d16"
            }
          },
          "metadata": {}
        }
      ],
      "source": [
        "model = StanceClassifier(3)\n",
        "model = model.to(device)"
      ]
    },
    {
      "cell_type": "code",
      "source": [
        "# calculating the weights for loss balancing\n",
        "len_agree = len(df_stances_train_agree)\n",
        "len_disagree = len(df_stances_train_disagree)\n",
        "len_discuss = len(df_stances_train_discuss)\n",
        "len_total = len(df_stances_train_filtered)\n",
        "print(len_agree, len_disagree, len_discuss, len_total)\n",
        "\n",
        "scaling_factor_agree = 0.6\n",
        "scaling_factor_disagree = 1.4\n",
        "weight_agree = (len_total/3/len_agree)*scaling_factor_agree\n",
        "weight_disagree = (len_total/3/len_disagree)*scaling_factor_disagree\n",
        "weight_discuss = len_total/3/len_discuss\n",
        "weights = torch.tensor([weight_agree, weight_disagree, weight_discuss])\n",
        "print(weights)"
      ],
      "metadata": {
        "colab": {
          "base_uri": "https://localhost:8080/"
        },
        "id": "GKlScj_A0-Mn",
        "outputId": "6a390544-742d-40d9-96ba-6e7e64292a97"
      },
      "execution_count": null,
      "outputs": [
        {
          "output_type": "stream",
          "name": "stdout",
          "text": [
            "3678 4188 8909 16775\n",
            "tensor([0.9122, 1.8692, 0.6276])\n"
          ]
        }
      ]
    },
    {
      "cell_type": "code",
      "execution_count": null,
      "metadata": {
        "colab": {
          "base_uri": "https://localhost:8080/"
        },
        "id": "VAq5BTE8J1XG",
        "outputId": "4a00d13a-cbef-43fe-c98c-3d8ebf6259d0"
      },
      "outputs": [
        {
          "output_type": "stream",
          "name": "stderr",
          "text": [
            "/usr/local/lib/python3.7/dist-packages/transformers/optimization.py:309: FutureWarning: This implementation of AdamW is deprecated and will be removed in a future version. Use the PyTorch implementation torch.optim.AdamW instead, or set `no_deprecation_warning=True` to disable this warning\n",
            "  FutureWarning,\n"
          ]
        }
      ],
      "source": [
        "# training\n",
        "EPOCHS = 3\n",
        "\n",
        "optimizer = AdamW(model.parameters(), lr=2e-5, correct_bias=False)\n",
        "total_steps = len(train_data_loader) * EPOCHS\n",
        "\n",
        "scheduler = get_linear_schedule_with_warmup(\n",
        "  optimizer,\n",
        "  num_warmup_steps=0,\n",
        "  num_training_steps=total_steps\n",
        ")\n",
        "\n",
        "loss_fn = nn.CrossEntropyLoss(weight=weights).to(device)"
      ]
    },
    {
      "cell_type": "code",
      "execution_count": null,
      "metadata": {
        "id": "qTycFbVRLtba"
      },
      "outputs": [],
      "source": [
        "# helper function for training model for one epoch\n",
        "def train_epoch(model, data_loader, loss_fn, optimizer, device, scheduler, n_examples):\n",
        "  model = model.train()\n",
        "\n",
        "  losses = []\n",
        "  correct_predictions = 0\n",
        "  \n",
        "  for i, d in enumerate(data_loader):\n",
        "    print(f\"Batch: {i}\")\n",
        "    input_ids = d[\"input_ids\"].to(device)\n",
        "    attention_mask = d[\"attention_mask\"].to(device)\n",
        "    stance = d[\"stance\"].to(device)\n",
        "\n",
        "    outputs = model(\n",
        "      input_ids=input_ids,\n",
        "      attention_mask=attention_mask\n",
        "    )\n",
        "\n",
        "    _, preds = torch.max(outputs, dim=1)\n",
        "    loss = loss_fn(outputs, stance)\n",
        "\n",
        "    correct_predictions += torch.sum(preds == stance)\n",
        "    losses.append(loss.item())\n",
        "\n",
        "    loss.backward()\n",
        "    nn.utils.clip_grad_norm_(model.parameters(), max_norm=1.0)\n",
        "    optimizer.step()\n",
        "    scheduler.step()\n",
        "    optimizer.zero_grad()\n",
        "\n",
        "  return correct_predictions.double() / n_examples, np.mean(losses)"
      ]
    },
    {
      "cell_type": "code",
      "execution_count": null,
      "metadata": {
        "id": "zCsU3EJJNYMG"
      },
      "outputs": [],
      "source": [
        "def eval_model(model, data_loader, loss_fn, device, n_examples):\n",
        "  model = model.eval()\n",
        "\n",
        "  losses = []\n",
        "  correct_predictions = 0\n",
        "\n",
        "  with torch.no_grad():\n",
        "    for i,d in enumerate(data_loader):\n",
        "      print(f\"Batch: {i}\")\n",
        "      input_ids = d[\"input_ids\"].to(device)\n",
        "      attention_mask = d[\"attention_mask\"].to(device)\n",
        "      stance = d[\"stance\"].to(device)\n",
        "\n",
        "      outputs = model(\n",
        "        input_ids=input_ids,\n",
        "        attention_mask=attention_mask\n",
        "      )\n",
        "      _, preds = torch.max(outputs, dim=1)\n",
        "\n",
        "      loss = loss_fn(outputs, stance)\n",
        "\n",
        "      correct_predictions += torch.sum(preds == stance)\n",
        "      losses.append(loss.item())\n",
        "\n",
        "  return correct_predictions.double() / n_examples, np.mean(losses)"
      ]
    },
    {
      "cell_type": "code",
      "source": [
        "EPOCHS = 3"
      ],
      "metadata": {
        "id": "t1ryXCWmqAOo"
      },
      "execution_count": null,
      "outputs": []
    },
    {
      "cell_type": "code",
      "execution_count": null,
      "metadata": {
        "id": "a3LLoNvwNvxw"
      },
      "outputs": [],
      "source": [
        "%%time\n",
        "history = defaultdict(list)\n",
        "best_accuracy = 0\n",
        "\n",
        "for epoch in range(EPOCHS):\n",
        "\n",
        "  print(f'Epoch {epoch + 1}/{EPOCHS}')\n",
        "  print('-' * 10)\n",
        "\n",
        "  train_acc, train_loss = train_epoch(\n",
        "    model,\n",
        "    train_data_loader,    \n",
        "    loss_fn, \n",
        "    optimizer, \n",
        "    device, \n",
        "    scheduler, \n",
        "    len(df_stances_train_filtered)\n",
        "  )\n",
        "\n",
        "  print(f'Train loss {train_loss} accuracy {train_acc}')\n",
        "\n",
        "  # val_acc, val_loss = eval_model(\n",
        "  #     model,\n",
        "  #     val_data_loader,\n",
        "  #     loss_fn, \n",
        "  #     device, \n",
        "  #     len(df_stances_val)\n",
        "  # )\n",
        "\n",
        "  # print(f'Val   loss {val_loss} accuracy {val_acc}')\n",
        "  # print()\n",
        "\n",
        "  history['train_acc'].append(train_acc)\n",
        "  history['train_loss'].append(train_loss)\n",
        "  # history['val_acc'].append(val_acc)\n",
        "  # history['val_loss'].append(val_loss)\n",
        "\n",
        "  if train_acc > best_accuracy:\n",
        "    checkpoint = {\n",
        "      'state_dict': model.state_dict(),\n",
        "      'optimizer': optimizer.state_dict(),\n",
        "    }\n",
        "    torch.save(checkpoint, 'best_model_state.bin')\n",
        "    best_accuracy = train_acc"
      ]
    },
    {
      "cell_type": "code",
      "execution_count": null,
      "metadata": {
        "id": "CdJOTm6JuDTC"
      },
      "outputs": [],
      "source": [
        "# helper function to get predictions - similar to evaluation but storing\n",
        "# review texts and probabilities\n",
        "def get_predictions(model, data_loader):\n",
        "  model = model.eval()\n",
        "  \n",
        "  predictions = []\n",
        "  prediction_probs = []\n",
        "  real_values = []\n",
        "\n",
        "  with torch.no_grad():\n",
        "    for d in data_loader:\n",
        "      input_ids = d[\"input_ids\"].to(device)\n",
        "      attention_mask = d[\"attention_mask\"].to(device)\n",
        "      stance = d[\"stance\"].to(device)\n",
        "\n",
        "      outputs = model(\n",
        "        input_ids=input_ids,\n",
        "        attention_mask=attention_mask\n",
        "      )\n",
        "      _, preds = torch.max(outputs, dim=1)\n",
        "\n",
        "      probs = F.softmax(outputs, dim=1)\n",
        "\n",
        "      predictions.extend(preds)\n",
        "      prediction_probs.extend(probs)\n",
        "      real_values.extend(stance)\n",
        "\n",
        "  predictions = torch.stack(predictions).cpu()\n",
        "  prediction_probs = torch.stack(prediction_probs).cpu()\n",
        "  real_values = torch.stack(real_values).cpu()\n",
        "  return predictions, prediction_probs, real_values"
      ]
    },
    {
      "cell_type": "code",
      "execution_count": null,
      "metadata": {
        "id": "fcUafMBJvRtI"
      },
      "outputs": [],
      "source": [
        "y_pred, y_pred_probs, y_test = get_predictions(\n",
        "  model,\n",
        "  test_data_loader\n",
        ")"
      ]
    },
    {
      "cell_type": "code",
      "execution_count": null,
      "metadata": {
        "colab": {
          "base_uri": "https://localhost:8080/"
        },
        "id": "W5eDzM0nvpsW",
        "outputId": "212bee84-b9aa-4480-bdee-4c75a2e3466f"
      },
      "outputs": [
        {
          "output_type": "stream",
          "name": "stdout",
          "text": [
            "              precision    recall  f1-score   support\n",
            "\n",
            "       agree       0.57      0.69      0.62      1903\n",
            "    disagree       0.52      0.07      0.12       697\n",
            "     discuss       0.83      0.88      0.85      4464\n",
            "\n",
            "    accuracy                           0.75      7064\n",
            "   macro avg       0.64      0.54      0.53      7064\n",
            "weighted avg       0.73      0.75      0.72      7064\n",
            "\n"
          ]
        }
      ],
      "source": [
        "print(classification_report(y_test, y_pred, target_names=stances))"
      ]
    },
    {
      "cell_type": "code",
      "execution_count": null,
      "metadata": {
        "colab": {
          "base_uri": "https://localhost:8080/",
          "height": 533
        },
        "id": "57U05p2ovrts",
        "outputId": "bc04ebc4-ef32-462f-d127-e605b5e55fa7"
      },
      "outputs": [
        {
          "output_type": "display_data",
          "data": {
            "text/plain": [
              "<Figure size 864x576 with 2 Axes>"
            ],
            "image/png": "[encoded data removed]"
          },
          "metadata": {
            "image/png": {
              "width": 732,
              "height": 516
            }
          }
        }
      ],
      "source": [
        "# confusion matrix\n",
        "def show_confusion_matrix(confusion_matrix):\n",
        "  hmap = sns.heatmap(confusion_matrix, annot=True, fmt=\"d\", cmap=\"Blues\")\n",
        "  hmap.yaxis.set_ticklabels(hmap.yaxis.get_ticklabels(), rotation=0, ha='right')\n",
        "  hmap.xaxis.set_ticklabels(hmap.xaxis.get_ticklabels(), rotation=30, ha='right')\n",
        "  plt.ylabel('True stance')\n",
        "  plt.xlabel('Predicted stance');\n",
        "\n",
        "cm = confusion_matrix(y_test, y_pred)\n",
        "df_cm = pd.DataFrame(cm, index=stances, columns=stances)\n",
        "show_confusion_matrix(df_cm)"
      ]
    }
  ],
  "metadata": {
    "colab": {
      "collapsed_sections": [],
      "name": "FNC-1_MSCI-598_related.ipynb",
      "provenance": [],
      "include_colab_link": true
    },
    "kernelspec": {
      "display_name": "Python 3",
      "name": "python3"
    },
    "language_info": {
      "name": "python"
    },
    "widgets": {
      "application/vnd.jupyter.widget-state+json": {
        "f3acfc87b30c4c4fb2eb6d5c36865d16": {
          "model_module": "@jupyter-widgets/controls",
          "model_name": "HBoxModel",
          "model_module_version": "1.5.0",
          "state": {
            "_dom_classes": [],
            "_model_module": "@jupyter-widgets/controls",
            "_model_module_version": "1.5.0",
            "_model_name": "HBoxModel",
            "_view_count": null,
            "_view_module": "@jupyter-widgets/controls",
            "_view_module_version": "1.5.0",
            "_view_name": "HBoxView",
            "box_style": "",
            "children": [
              "IPY_MODEL_7fe0bbc6be084535a26f9e6ded432378",
              "IPY_MODEL_8ca5f54e832440c28248b69d158cbad6",
              "IPY_MODEL_f6ff3375a52647e38da4dcc506d346ed"
            ],
            "layout": "IPY_MODEL_e0daf61dded145c18892ebc03f6beeb7"
          }
        },
        "7fe0bbc6be084535a26f9e6ded432378": {
          "model_module": "@jupyter-widgets/controls",
          "model_name": "HTMLModel",
          "model_module_version": "1.5.0",
          "state": {
            "_dom_classes": [],
            "_model_module": "@jupyter-widgets/controls",
            "_model_module_version": "1.5.0",
            "_model_name": "HTMLModel",
            "_view_count": null,
            "_view_module": "@jupyter-widgets/controls",
            "_view_module_version": "1.5.0",
            "_view_name": "HTMLView",
            "description": "",
            "description_tooltip": null,
            "layout": "IPY_MODEL_53a41354bbb0458a8fd063c7f43eb84e",
            "placeholder": "​",
            "style": "IPY_MODEL_514cc2cfe5a54cdab9b8f05a8becec33",
            "value": "Downloading: 100%"
          }
        },
        "8ca5f54e832440c28248b69d158cbad6": {
          "model_module": "@jupyter-widgets/controls",
          "model_name": "FloatProgressModel",
          "model_module_version": "1.5.0",
          "state": {
            "_dom_classes": [],
            "_model_module": "@jupyter-widgets/controls",
            "_model_module_version": "1.5.0",
            "_model_name": "FloatProgressModel",
            "_view_count": null,
            "_view_module": "@jupyter-widgets/controls",
            "_view_module_version": "1.5.0",
            "_view_name": "ProgressView",
            "bar_style": "success",
            "description": "",
            "description_tooltip": null,
            "layout": "IPY_MODEL_dee4468c9f5444858cb7a5e15d8eaf3d",
            "max": 435779157,
            "min": 0,
            "orientation": "horizontal",
            "style": "IPY_MODEL_d874b008c0d54f3a970b816d8de67d6f",
            "value": 435779157
          }
        },
        "f6ff3375a52647e38da4dcc506d346ed": {
          "model_module": "@jupyter-widgets/controls",
          "model_name": "HTMLModel",
          "model_module_version": "1.5.0",
          "state": {
            "_dom_classes": [],
            "_model_module": "@jupyter-widgets/controls",
            "_model_module_version": "1.5.0",
            "_model_name": "HTMLModel",
            "_view_count": null,
            "_view_module": "@jupyter-widgets/controls",
            "_view_module_version": "1.5.0",
            "_view_name": "HTMLView",
            "description": "",
            "description_tooltip": null,
            "layout": "IPY_MODEL_f6bac31e5b3c48f9aadb88be05b559a4",
            "placeholder": "​",
            "style": "IPY_MODEL_bc4078112fd247b7b45637631fc0af96",
            "value": " 416M/416M [00:17&lt;00:00, 38.6MB/s]"
          }
        },
        "e0daf61dded145c18892ebc03f6beeb7": {
          "model_module": "@jupyter-widgets/base",
          "model_name": "LayoutModel",
          "model_module_version": "1.2.0",
          "state": {
            "_model_module": "@jupyter-widgets/base",
            "_model_module_version": "1.2.0",
            "_model_name": "LayoutModel",
            "_view_count": null,
            "_view_module": "@jupyter-widgets/base",
            "_view_module_version": "1.2.0",
            "_view_name": "LayoutView",
            "align_content": null,
            "align_items": null,
            "align_self": null,
            "border": null,
            "bottom": null,
            "display": null,
            "flex": null,
            "flex_flow": null,
            "grid_area": null,
            "grid_auto_columns": null,
            "grid_auto_flow": null,
            "grid_auto_rows": null,
            "grid_column": null,
            "grid_gap": null,
            "grid_row": null,
            "grid_template_areas": null,
            "grid_template_columns": null,
            "grid_template_rows": null,
            "height": null,
            "justify_content": null,
            "justify_items": null,
            "left": null,
            "margin": null,
            "max_height": null,
            "max_width": null,
            "min_height": null,
            "min_width": null,
            "object_fit": null,
            "object_position": null,
            "order": null,
            "overflow": null,
            "overflow_x": null,
            "overflow_y": null,
            "padding": null,
            "right": null,
            "top": null,
            "visibility": null,
            "width": null
          }
        },
        "53a41354bbb0458a8fd063c7f43eb84e": {
          "model_module": "@jupyter-widgets/base",
          "model_name": "LayoutModel",
          "model_module_version": "1.2.0",
          "state": {
            "_model_module": "@jupyter-widgets/base",
            "_model_module_version": "1.2.0",
            "_model_name": "LayoutModel",
            "_view_count": null,
            "_view_module": "@jupyter-widgets/base",
            "_view_module_version": "1.2.0",
            "_view_name": "LayoutView",
            "align_content": null,
            "align_items": null,
            "align_self": null,
            "border": null,
            "bottom": null,
            "display": null,
            "flex": null,
            "flex_flow": null,
            "grid_area": null,
            "grid_auto_columns": null,
            "grid_auto_flow": null,
            "grid_auto_rows": null,
            "grid_column": null,
            "grid_gap": null,
            "grid_row": null,
            "grid_template_areas": null,
            "grid_template_columns": null,
            "grid_template_rows": null,
            "height": null,
            "justify_content": null,
            "justify_items": null,
            "left": null,
            "margin": null,
            "max_height": null,
            "max_width": null,
            "min_height": null,
            "min_width": null,
            "object_fit": null,
            "object_position": null,
            "order": null,
            "overflow": null,
            "overflow_x": null,
            "overflow_y": null,
            "padding": null,
            "right": null,
            "top": null,
            "visibility": null,
            "width": null
          }
        },
        "514cc2cfe5a54cdab9b8f05a8becec33": {
          "model_module": "@jupyter-widgets/controls",
          "model_name": "DescriptionStyleModel",
          "model_module_version": "1.5.0",
          "state": {
            "_model_module": "@jupyter-widgets/controls",
            "_model_module_version": "1.5.0",
            "_model_name": "DescriptionStyleModel",
            "_view_count": null,
            "_view_module": "@jupyter-widgets/base",
            "_view_module_version": "1.2.0",
            "_view_name": "StyleView",
            "description_width": ""
          }
        },
        "dee4468c9f5444858cb7a5e15d8eaf3d": {
          "model_module": "@jupyter-widgets/base",
          "model_name": "LayoutModel",
          "model_module_version": "1.2.0",
          "state": {
            "_model_module": "@jupyter-widgets/base",
            "_model_module_version": "1.2.0",
            "_model_name": "LayoutModel",
            "_view_count": null,
            "_view_module": "@jupyter-widgets/base",
            "_view_module_version": "1.2.0",
            "_view_name": "LayoutView",
            "align_content": null,
            "align_items": null,
            "align_self": null,
            "border": null,
            "bottom": null,
            "display": null,
            "flex": null,
            "flex_flow": null,
            "grid_area": null,
            "grid_auto_columns": null,
            "grid_auto_flow": null,
            "grid_auto_rows": null,
            "grid_column": null,
            "grid_gap": null,
            "grid_row": null,
            "grid_template_areas": null,
            "grid_template_columns": null,
            "grid_template_rows": null,
            "height": null,
            "justify_content": null,
            "justify_items": null,
            "left": null,
            "margin": null,
            "max_height": null,
            "max_width": null,
            "min_height": null,
            "min_width": null,
            "object_fit": null,
            "object_position": null,
            "order": null,
            "overflow": null,
            "overflow_x": null,
            "overflow_y": null,
            "padding": null,
            "right": null,
            "top": null,
            "visibility": null,
            "width": null
          }
        },
        "d874b008c0d54f3a970b816d8de67d6f": {
          "model_module": "@jupyter-widgets/controls",
          "model_name": "ProgressStyleModel",
          "model_module_version": "1.5.0",
          "state": {
            "_model_module": "@jupyter-widgets/controls",
            "_model_module_version": "1.5.0",
            "_model_name": "ProgressStyleModel",
            "_view_count": null,
            "_view_module": "@jupyter-widgets/base",
            "_view_module_version": "1.2.0",
            "_view_name": "StyleView",
            "bar_color": null,
            "description_width": ""
          }
        },
        "f6bac31e5b3c48f9aadb88be05b559a4": {
          "model_module": "@jupyter-widgets/base",
          "model_name": "LayoutModel",
          "model_module_version": "1.2.0",
          "state": {
            "_model_module": "@jupyter-widgets/base",
            "_model_module_version": "1.2.0",
            "_model_name": "LayoutModel",
            "_view_count": null,
            "_view_module": "@jupyter-widgets/base",
            "_view_module_version": "1.2.0",
            "_view_name": "LayoutView",
            "align_content": null,
            "align_items": null,
            "align_self": null,
            "border": null,
            "bottom": null,
            "display": null,
            "flex": null,
            "flex_flow": null,
            "grid_area": null,
            "grid_auto_columns": null,
            "grid_auto_flow": null,
            "grid_auto_rows": null,
            "grid_column": null,
            "grid_gap": null,
            "grid_row": null,
            "grid_template_areas": null,
            "grid_template_columns": null,
            "grid_template_rows": null,
            "height": null,
            "justify_content": null,
            "justify_items": null,
            "left": null,
            "margin": null,
            "max_height": null,
            "max_width": null,
            "min_height": null,
            "min_width": null,
            "object_fit": null,
            "object_position": null,
            "order": null,
            "overflow": null,
            "overflow_x": null,
            "overflow_y": null,
            "padding": null,
            "right": null,
            "top": null,
            "visibility": null,
            "width": null
          }
        },
        "bc4078112fd247b7b45637631fc0af96": {
          "model_module": "@jupyter-widgets/controls",
          "model_name": "DescriptionStyleModel",
          "model_module_version": "1.5.0",
          "state": {
            "_model_module": "@jupyter-widgets/controls",
            "_model_module_version": "1.5.0",
            "_model_name": "DescriptionStyleModel",
            "_view_count": null,
            "_view_module": "@jupyter-widgets/base",
            "_view_module_version": "1.2.0",
            "_view_name": "StyleView",
            "description_width": ""
          }
        },
        "8ae50db0cfb84c12be847a6721765d44": {
          "model_module": "@jupyter-widgets/controls",
          "model_name": "HBoxModel",
          "model_module_version": "1.5.0",
          "state": {
            "_dom_classes": [],
            "_model_module": "@jupyter-widgets/controls",
            "_model_module_version": "1.5.0",
            "_model_name": "HBoxModel",
            "_view_count": null,
            "_view_module": "@jupyter-widgets/controls",
            "_view_module_version": "1.5.0",
            "_view_name": "HBoxView",
            "box_style": "",
            "children": [
              "IPY_MODEL_5ae0ceb1eecb4cc790292c6e5f77e795",
              "IPY_MODEL_6fa7094ad5c44b1bafd95bb1648b2b4b",
              "IPY_MODEL_3728ddfd462545e69ab70d2e03262b4a"
            ],
            "layout": "IPY_MODEL_41afd91f5e4449ce90c62f5d85e34af6"
          }
        },
        "5ae0ceb1eecb4cc790292c6e5f77e795": {
          "model_module": "@jupyter-widgets/controls",
          "model_name": "HTMLModel",
          "model_module_version": "1.5.0",
          "state": {
            "_dom_classes": [],
            "_model_module": "@jupyter-widgets/controls",
            "_model_module_version": "1.5.0",
            "_model_name": "HTMLModel",
            "_view_count": null,
            "_view_module": "@jupyter-widgets/controls",
            "_view_module_version": "1.5.0",
            "_view_name": "HTMLView",
            "description": "",
            "description_tooltip": null,
            "layout": "IPY_MODEL_2e791dc7769d4942a800b70f39e96696",
            "placeholder": "​",
            "style": "IPY_MODEL_68cbfd2d010647c4ac439a293efb7832",
            "value": "Downloading: 100%"
          }
        },
        "6fa7094ad5c44b1bafd95bb1648b2b4b": {
          "model_module": "@jupyter-widgets/controls",
          "model_name": "FloatProgressModel",
          "model_module_version": "1.5.0",
          "state": {
            "_dom_classes": [],
            "_model_module": "@jupyter-widgets/controls",
            "_model_module_version": "1.5.0",
            "_model_name": "FloatProgressModel",
            "_view_count": null,
            "_view_module": "@jupyter-widgets/controls",
            "_view_module_version": "1.5.0",
            "_view_name": "ProgressView",
            "bar_style": "success",
            "description": "",
            "description_tooltip": null,
            "layout": "IPY_MODEL_df089256613e46a1866d0ebf9a22d3c1",
            "max": 213450,
            "min": 0,
            "orientation": "horizontal",
            "style": "IPY_MODEL_ea72b99cad8a49919ca9791c88d1cb05",
            "value": 213450
          }
        },
        "3728ddfd462545e69ab70d2e03262b4a": {
          "model_module": "@jupyter-widgets/controls",
          "model_name": "HTMLModel",
          "model_module_version": "1.5.0",
          "state": {
            "_dom_classes": [],
            "_model_module": "@jupyter-widgets/controls",
            "_model_module_version": "1.5.0",
            "_model_name": "HTMLModel",
            "_view_count": null,
            "_view_module": "@jupyter-widgets/controls",
            "_view_module_version": "1.5.0",
            "_view_name": "HTMLView",
            "description": "",
            "description_tooltip": null,
            "layout": "IPY_MODEL_53d58e239457435cbd08a3cb4560042b",
            "placeholder": "​",
            "style": "IPY_MODEL_e21c164469f1426587da6567b8ecd611",
            "value": " 208k/208k [00:00&lt;00:00, 1.15MB/s]"
          }
        },
        "41afd91f5e4449ce90c62f5d85e34af6": {
          "model_module": "@jupyter-widgets/base",
          "model_name": "LayoutModel",
          "model_module_version": "1.2.0",
          "state": {
            "_model_module": "@jupyter-widgets/base",
            "_model_module_version": "1.2.0",
            "_model_name": "LayoutModel",
            "_view_count": null,
            "_view_module": "@jupyter-widgets/base",
            "_view_module_version": "1.2.0",
            "_view_name": "LayoutView",
            "align_content": null,
            "align_items": null,
            "align_self": null,
            "border": null,
            "bottom": null,
            "display": null,
            "flex": null,
            "flex_flow": null,
            "grid_area": null,
            "grid_auto_columns": null,
            "grid_auto_flow": null,
            "grid_auto_rows": null,
            "grid_column": null,
            "grid_gap": null,
            "grid_row": null,
            "grid_template_areas": null,
            "grid_template_columns": null,
            "grid_template_rows": null,
            "height": null,
            "justify_content": null,
            "justify_items": null,
            "left": null,
            "margin": null,
            "max_height": null,
            "max_width": null,
            "min_height": null,
            "min_width": null,
            "object_fit": null,
            "object_position": null,
            "order": null,
            "overflow": null,
            "overflow_x": null,
            "overflow_y": null,
            "padding": null,
            "right": null,
            "top": null,
            "visibility": null,
            "width": null
          }
        },
        "2e791dc7769d4942a800b70f39e96696": {
          "model_module": "@jupyter-widgets/base",
          "model_name": "LayoutModel",
          "model_module_version": "1.2.0",
          "state": {
            "_model_module": "@jupyter-widgets/base",
            "_model_module_version": "1.2.0",
            "_model_name": "LayoutModel",
            "_view_count": null,
            "_view_module": "@jupyter-widgets/base",
            "_view_module_version": "1.2.0",
            "_view_name": "LayoutView",
            "align_content": null,
            "align_items": null,
            "align_self": null,
            "border": null,
            "bottom": null,
            "display": null,
            "flex": null,
            "flex_flow": null,
            "grid_area": null,
            "grid_auto_columns": null,
            "grid_auto_flow": null,
            "grid_auto_rows": null,
            "grid_column": null,
            "grid_gap": null,
            "grid_row": null,
            "grid_template_areas": null,
            "grid_template_columns": null,
            "grid_template_rows": null,
            "height": null,
            "justify_content": null,
            "justify_items": null,
            "left": null,
            "margin": null,
            "max_height": null,
            "max_width": null,
            "min_height": null,
            "min_width": null,
            "object_fit": null,
            "object_position": null,
            "order": null,
            "overflow": null,
            "overflow_x": null,
            "overflow_y": null,
            "padding": null,
            "right": null,
            "top": null,
            "visibility": null,
            "width": null
          }
        },
        "68cbfd2d010647c4ac439a293efb7832": {
          "model_module": "@jupyter-widgets/controls",
          "model_name": "DescriptionStyleModel",
          "model_module_version": "1.5.0",
          "state": {
            "_model_module": "@jupyter-widgets/controls",
            "_model_module_version": "1.5.0",
            "_model_name": "DescriptionStyleModel",
            "_view_count": null,
            "_view_module": "@jupyter-widgets/base",
            "_view_module_version": "1.2.0",
            "_view_name": "StyleView",
            "description_width": ""
          }
        },
        "df089256613e46a1866d0ebf9a22d3c1": {
          "model_module": "@jupyter-widgets/base",
          "model_name": "LayoutModel",
          "model_module_version": "1.2.0",
          "state": {
            "_model_module": "@jupyter-widgets/base",
            "_model_module_version": "1.2.0",
            "_model_name": "LayoutModel",
            "_view_count": null,
            "_view_module": "@jupyter-widgets/base",
            "_view_module_version": "1.2.0",
            "_view_name": "LayoutView",
            "align_content": null,
            "align_items": null,
            "align_self": null,
            "border": null,
            "bottom": null,
            "display": null,
            "flex": null,
            "flex_flow": null,
            "grid_area": null,
            "grid_auto_columns": null,
            "grid_auto_flow": null,
            "grid_auto_rows": null,
            "grid_column": null,
            "grid_gap": null,
            "grid_row": null,
            "grid_template_areas": null,
            "grid_template_columns": null,
            "grid_template_rows": null,
            "height": null,
            "justify_content": null,
            "justify_items": null,
            "left": null,
            "margin": null,
            "max_height": null,
            "max_width": null,
            "min_height": null,
            "min_width": null,
            "object_fit": null,
            "object_position": null,
            "order": null,
            "overflow": null,
            "overflow_x": null,
            "overflow_y": null,
            "padding": null,
            "right": null,
            "top": null,
            "visibility": null,
            "width": null
          }
        },
        "ea72b99cad8a49919ca9791c88d1cb05": {
          "model_module": "@jupyter-widgets/controls",
          "model_name": "ProgressStyleModel",
          "model_module_version": "1.5.0",
          "state": {
            "_model_module": "@jupyter-widgets/controls",
            "_model_module_version": "1.5.0",
            "_model_name": "ProgressStyleModel",
            "_view_count": null,
            "_view_module": "@jupyter-widgets/base",
            "_view_module_version": "1.2.0",
            "_view_name": "StyleView",
            "bar_color": null,
            "description_width": ""
          }
        },
        "53d58e239457435cbd08a3cb4560042b": {
          "model_module": "@jupyter-widgets/base",
          "model_name": "LayoutModel",
          "model_module_version": "1.2.0",
          "state": {
            "_model_module": "@jupyter-widgets/base",
            "_model_module_version": "1.2.0",
            "_model_name": "LayoutModel",
            "_view_count": null,
            "_view_module": "@jupyter-widgets/base",
            "_view_module_version": "1.2.0",
            "_view_name": "LayoutView",
            "align_content": null,
            "align_items": null,
            "align_self": null,
            "border": null,
            "bottom": null,
            "display": null,
            "flex": null,
            "flex_flow": null,
            "grid_area": null,
            "grid_auto_columns": null,
            "grid_auto_flow": null,
            "grid_auto_rows": null,
            "grid_column": null,
            "grid_gap": null,
            "grid_row": null,
            "grid_template_areas": null,
            "grid_template_columns": null,
            "grid_template_rows": null,
            "height": null,
            "justify_content": null,
            "justify_items": null,
            "left": null,
            "margin": null,
            "max_height": null,
            "max_width": null,
            "min_height": null,
            "min_width": null,
            "object_fit": null,
            "object_position": null,
            "order": null,
            "overflow": null,
            "overflow_x": null,
            "overflow_y": null,
            "padding": null,
            "right": null,
            "top": null,
            "visibility": null,
            "width": null
          }
        },
        "e21c164469f1426587da6567b8ecd611": {
          "model_module": "@jupyter-widgets/controls",
          "model_name": "DescriptionStyleModel",
          "model_module_version": "1.5.0",
          "state": {
            "_model_module": "@jupyter-widgets/controls",
            "_model_module_version": "1.5.0",
            "_model_name": "DescriptionStyleModel",
            "_view_count": null,
            "_view_module": "@jupyter-widgets/base",
            "_view_module_version": "1.2.0",
            "_view_name": "StyleView",
            "description_width": ""
          }
        },
        "65295efbd7214dc085bfaac86d46606e": {
          "model_module": "@jupyter-widgets/controls",
          "model_name": "HBoxModel",
          "model_module_version": "1.5.0",
          "state": {
            "_dom_classes": [],
            "_model_module": "@jupyter-widgets/controls",
            "_model_module_version": "1.5.0",
            "_model_name": "HBoxModel",
            "_view_count": null,
            "_view_module": "@jupyter-widgets/controls",
            "_view_module_version": "1.5.0",
            "_view_name": "HBoxView",
            "box_style": "",
            "children": [
              "IPY_MODEL_580dd3babf504594b73472fb5202e707",
              "IPY_MODEL_bde691aa7a034f5ebdd60edde09171b8",
              "IPY_MODEL_467d91295ddf486389fbb70c99f91e00"
            ],
            "layout": "IPY_MODEL_e87a2a1c1fa94e80933d1f79541c3397"
          }
        },
        "580dd3babf504594b73472fb5202e707": {
          "model_module": "@jupyter-widgets/controls",
          "model_name": "HTMLModel",
          "model_module_version": "1.5.0",
          "state": {
            "_dom_classes": [],
            "_model_module": "@jupyter-widgets/controls",
            "_model_module_version": "1.5.0",
            "_model_name": "HTMLModel",
            "_view_count": null,
            "_view_module": "@jupyter-widgets/controls",
            "_view_module_version": "1.5.0",
            "_view_name": "HTMLView",
            "description": "",
            "description_tooltip": null,
            "layout": "IPY_MODEL_a8942930e5d246089e4b34c879496f44",
            "placeholder": "​",
            "style": "IPY_MODEL_dd7dbd41b52342d6821e736ad751cc30",
            "value": "Downloading: 100%"
          }
        },
        "bde691aa7a034f5ebdd60edde09171b8": {
          "model_module": "@jupyter-widgets/controls",
          "model_name": "FloatProgressModel",
          "model_module_version": "1.5.0",
          "state": {
            "_dom_classes": [],
            "_model_module": "@jupyter-widgets/controls",
            "_model_module_version": "1.5.0",
            "_model_name": "FloatProgressModel",
            "_view_count": null,
            "_view_module": "@jupyter-widgets/controls",
            "_view_module_version": "1.5.0",
            "_view_name": "ProgressView",
            "bar_style": "success",
            "description": "",
            "description_tooltip": null,
            "layout": "IPY_MODEL_553b87d6a7d041e5b4ad525c7a25ed90",
            "max": 29,
            "min": 0,
            "orientation": "horizontal",
            "style": "IPY_MODEL_a44fbf6445404e48b09dc78977019bd3",
            "value": 29
          }
        },
        "467d91295ddf486389fbb70c99f91e00": {
          "model_module": "@jupyter-widgets/controls",
          "model_name": "HTMLModel",
          "model_module_version": "1.5.0",
          "state": {
            "_dom_classes": [],
            "_model_module": "@jupyter-widgets/controls",
            "_model_module_version": "1.5.0",
            "_model_name": "HTMLModel",
            "_view_count": null,
            "_view_module": "@jupyter-widgets/controls",
            "_view_module_version": "1.5.0",
            "_view_name": "HTMLView",
            "description": "",
            "description_tooltip": null,
            "layout": "IPY_MODEL_9ef0a4e5e73147a89a6084b61f99a107",
            "placeholder": "​",
            "style": "IPY_MODEL_d304526bb804408da1792d24167c2ecb",
            "value": " 29.0/29.0 [00:00&lt;00:00, 738B/s]"
          }
        },
        "e87a2a1c1fa94e80933d1f79541c3397": {
          "model_module": "@jupyter-widgets/base",
          "model_name": "LayoutModel",
          "model_module_version": "1.2.0",
          "state": {
            "_model_module": "@jupyter-widgets/base",
            "_model_module_version": "1.2.0",
            "_model_name": "LayoutModel",
            "_view_count": null,
            "_view_module": "@jupyter-widgets/base",
            "_view_module_version": "1.2.0",
            "_view_name": "LayoutView",
            "align_content": null,
            "align_items": null,
            "align_self": null,
            "border": null,
            "bottom": null,
            "display": null,
            "flex": null,
            "flex_flow": null,
            "grid_area": null,
            "grid_auto_columns": null,
            "grid_auto_flow": null,
            "grid_auto_rows": null,
            "grid_column": null,
            "grid_gap": null,
            "grid_row": null,
            "grid_template_areas": null,
            "grid_template_columns": null,
            "grid_template_rows": null,
            "height": null,
            "justify_content": null,
            "justify_items": null,
            "left": null,
            "margin": null,
            "max_height": null,
            "max_width": null,
            "min_height": null,
            "min_width": null,
            "object_fit": null,
            "object_position": null,
            "order": null,
            "overflow": null,
            "overflow_x": null,
            "overflow_y": null,
            "padding": null,
            "right": null,
            "top": null,
            "visibility": null,
            "width": null
          }
        },
        "a8942930e5d246089e4b34c879496f44": {
          "model_module": "@jupyter-widgets/base",
          "model_name": "LayoutModel",
          "model_module_version": "1.2.0",
          "state": {
            "_model_module": "@jupyter-widgets/base",
            "_model_module_version": "1.2.0",
            "_model_name": "LayoutModel",
            "_view_count": null,
            "_view_module": "@jupyter-widgets/base",
            "_view_module_version": "1.2.0",
            "_view_name": "LayoutView",
            "align_content": null,
            "align_items": null,
            "align_self": null,
            "border": null,
            "bottom": null,
            "display": null,
            "flex": null,
            "flex_flow": null,
            "grid_area": null,
            "grid_auto_columns": null,
            "grid_auto_flow": null,
            "grid_auto_rows": null,
            "grid_column": null,
            "grid_gap": null,
            "grid_row": null,
            "grid_template_areas": null,
            "grid_template_columns": null,
            "grid_template_rows": null,
            "height": null,
            "justify_content": null,
            "justify_items": null,
            "left": null,
            "margin": null,
            "max_height": null,
            "max_width": null,
            "min_height": null,
            "min_width": null,
            "object_fit": null,
            "object_position": null,
            "order": null,
            "overflow": null,
            "overflow_x": null,
            "overflow_y": null,
            "padding": null,
            "right": null,
            "top": null,
            "visibility": null,
            "width": null
          }
        },
        "dd7dbd41b52342d6821e736ad751cc30": {
          "model_module": "@jupyter-widgets/controls",
          "model_name": "DescriptionStyleModel",
          "model_module_version": "1.5.0",
          "state": {
            "_model_module": "@jupyter-widgets/controls",
            "_model_module_version": "1.5.0",
            "_model_name": "DescriptionStyleModel",
            "_view_count": null,
            "_view_module": "@jupyter-widgets/base",
            "_view_module_version": "1.2.0",
            "_view_name": "StyleView",
            "description_width": ""
          }
        },
        "553b87d6a7d041e5b4ad525c7a25ed90": {
          "model_module": "@jupyter-widgets/base",
          "model_name": "LayoutModel",
          "model_module_version": "1.2.0",
          "state": {
            "_model_module": "@jupyter-widgets/base",
            "_model_module_version": "1.2.0",
            "_model_name": "LayoutModel",
            "_view_count": null,
            "_view_module": "@jupyter-widgets/base",
            "_view_module_version": "1.2.0",
            "_view_name": "LayoutView",
            "align_content": null,
            "align_items": null,
            "align_self": null,
            "border": null,
            "bottom": null,
            "display": null,
            "flex": null,
            "flex_flow": null,
            "grid_area": null,
            "grid_auto_columns": null,
            "grid_auto_flow": null,
            "grid_auto_rows": null,
            "grid_column": null,
            "grid_gap": null,
            "grid_row": null,
            "grid_template_areas": null,
            "grid_template_columns": null,
            "grid_template_rows": null,
            "height": null,
            "justify_content": null,
            "justify_items": null,
            "left": null,
            "margin": null,
            "max_height": null,
            "max_width": null,
            "min_height": null,
            "min_width": null,
            "object_fit": null,
            "object_position": null,
            "order": null,
            "overflow": null,
            "overflow_x": null,
            "overflow_y": null,
            "padding": null,
            "right": null,
            "top": null,
            "visibility": null,
            "width": null
          }
        },
        "a44fbf6445404e48b09dc78977019bd3": {
          "model_module": "@jupyter-widgets/controls",
          "model_name": "ProgressStyleModel",
          "model_module_version": "1.5.0",
          "state": {
            "_model_module": "@jupyter-widgets/controls",
            "_model_module_version": "1.5.0",
            "_model_name": "ProgressStyleModel",
            "_view_count": null,
            "_view_module": "@jupyter-widgets/base",
            "_view_module_version": "1.2.0",
            "_view_name": "StyleView",
            "bar_color": null,
            "description_width": ""
          }
        },
        "9ef0a4e5e73147a89a6084b61f99a107": {
          "model_module": "@jupyter-widgets/base",
          "model_name": "LayoutModel",
          "model_module_version": "1.2.0",
          "state": {
            "_model_module": "@jupyter-widgets/base",
            "_model_module_version": "1.2.0",
            "_model_name": "LayoutModel",
            "_view_count": null,
            "_view_module": "@jupyter-widgets/base",
            "_view_module_version": "1.2.0",
            "_view_name": "LayoutView",
            "align_content": null,
            "align_items": null,
            "align_self": null,
            "border": null,
            "bottom": null,
            "display": null,
            "flex": null,
            "flex_flow": null,
            "grid_area": null,
            "grid_auto_columns": null,
            "grid_auto_flow": null,
            "grid_auto_rows": null,
            "grid_column": null,
            "grid_gap": null,
            "grid_row": null,
            "grid_template_areas": null,
            "grid_template_columns": null,
            "grid_template_rows": null,
            "height": null,
            "justify_content": null,
            "justify_items": null,
            "left": null,
            "margin": null,
            "max_height": null,
            "max_width": null,
            "min_height": null,
            "min_width": null,
            "object_fit": null,
            "object_position": null,
            "order": null,
            "overflow": null,
            "overflow_x": null,
            "overflow_y": null,
            "padding": null,
            "right": null,
            "top": null,
            "visibility": null,
            "width": null
          }
        },
        "d304526bb804408da1792d24167c2ecb": {
          "model_module": "@jupyter-widgets/controls",
          "model_name": "DescriptionStyleModel",
          "model_module_version": "1.5.0",
          "state": {
            "_model_module": "@jupyter-widgets/controls",
            "_model_module_version": "1.5.0",
            "_model_name": "DescriptionStyleModel",
            "_view_count": null,
            "_view_module": "@jupyter-widgets/base",
            "_view_module_version": "1.2.0",
            "_view_name": "StyleView",
            "description_width": ""
          }
        },
        "9748c22a375641aaaf80f84b224cf829": {
          "model_module": "@jupyter-widgets/controls",
          "model_name": "HBoxModel",
          "model_module_version": "1.5.0",
          "state": {
            "_dom_classes": [],
            "_model_module": "@jupyter-widgets/controls",
            "_model_module_version": "1.5.0",
            "_model_name": "HBoxModel",
            "_view_count": null,
            "_view_module": "@jupyter-widgets/controls",
            "_view_module_version": "1.5.0",
            "_view_name": "HBoxView",
            "box_style": "",
            "children": [
              "IPY_MODEL_d462b86084804c278e1ce0f9ae582f03",
              "IPY_MODEL_fd253475c6484f7c9e6fc81b19b984f0",
              "IPY_MODEL_6ff0871e54e946e9a0951ab5be82dbf8"
            ],
            "layout": "IPY_MODEL_dbf78c8a0d684ceb9e8970862f08ec80"
          }
        },
        "d462b86084804c278e1ce0f9ae582f03": {
          "model_module": "@jupyter-widgets/controls",
          "model_name": "HTMLModel",
          "model_module_version": "1.5.0",
          "state": {
            "_dom_classes": [],
            "_model_module": "@jupyter-widgets/controls",
            "_model_module_version": "1.5.0",
            "_model_name": "HTMLModel",
            "_view_count": null,
            "_view_module": "@jupyter-widgets/controls",
            "_view_module_version": "1.5.0",
            "_view_name": "HTMLView",
            "description": "",
            "description_tooltip": null,
            "layout": "IPY_MODEL_28dd77b62fba4565996e6ecf218a7ad7",
            "placeholder": "​",
            "style": "IPY_MODEL_87c7242f8e1241ac991b6164b268d790",
            "value": "Downloading: 100%"
          }
        },
        "fd253475c6484f7c9e6fc81b19b984f0": {
          "model_module": "@jupyter-widgets/controls",
          "model_name": "FloatProgressModel",
          "model_module_version": "1.5.0",
          "state": {
            "_dom_classes": [],
            "_model_module": "@jupyter-widgets/controls",
            "_model_module_version": "1.5.0",
            "_model_name": "FloatProgressModel",
            "_view_count": null,
            "_view_module": "@jupyter-widgets/controls",
            "_view_module_version": "1.5.0",
            "_view_name": "ProgressView",
            "bar_style": "success",
            "description": "",
            "description_tooltip": null,
            "layout": "IPY_MODEL_52c4885bb91f4c5abda3375eb3ce6dbd",
            "max": 570,
            "min": 0,
            "orientation": "horizontal",
            "style": "IPY_MODEL_02f7c9421940465da073bb63bfa95eea",
            "value": 570
          }
        },
        "6ff0871e54e946e9a0951ab5be82dbf8": {
          "model_module": "@jupyter-widgets/controls",
          "model_name": "HTMLModel",
          "model_module_version": "1.5.0",
          "state": {
            "_dom_classes": [],
            "_model_module": "@jupyter-widgets/controls",
            "_model_module_version": "1.5.0",
            "_model_name": "HTMLModel",
            "_view_count": null,
            "_view_module": "@jupyter-widgets/controls",
            "_view_module_version": "1.5.0",
            "_view_name": "HTMLView",
            "description": "",
            "description_tooltip": null,
            "layout": "IPY_MODEL_d8ed8845816345909ef977a53e7704fa",
            "placeholder": "​",
            "style": "IPY_MODEL_eaa54dc292d8498cac91a4ac58718db7",
            "value": " 570/570 [00:00&lt;00:00, 9.47kB/s]"
          }
        },
        "dbf78c8a0d684ceb9e8970862f08ec80": {
          "model_module": "@jupyter-widgets/base",
          "model_name": "LayoutModel",
          "model_module_version": "1.2.0",
          "state": {
            "_model_module": "@jupyter-widgets/base",
            "_model_module_version": "1.2.0",
            "_model_name": "LayoutModel",
            "_view_count": null,
            "_view_module": "@jupyter-widgets/base",
            "_view_module_version": "1.2.0",
            "_view_name": "LayoutView",
            "align_content": null,
            "align_items": null,
            "align_self": null,
            "border": null,
            "bottom": null,
            "display": null,
            "flex": null,
            "flex_flow": null,
            "grid_area": null,
            "grid_auto_columns": null,
            "grid_auto_flow": null,
            "grid_auto_rows": null,
            "grid_column": null,
            "grid_gap": null,
            "grid_row": null,
            "grid_template_areas": null,
            "grid_template_columns": null,
            "grid_template_rows": null,
            "height": null,
            "justify_content": null,
            "justify_items": null,
            "left": null,
            "margin": null,
            "max_height": null,
            "max_width": null,
            "min_height": null,
            "min_width": null,
            "object_fit": null,
            "object_position": null,
            "order": null,
            "overflow": null,
            "overflow_x": null,
            "overflow_y": null,
            "padding": null,
            "right": null,
            "top": null,
            "visibility": null,
            "width": null
          }
        },
        "28dd77b62fba4565996e6ecf218a7ad7": {
          "model_module": "@jupyter-widgets/base",
          "model_name": "LayoutModel",
          "model_module_version": "1.2.0",
          "state": {
            "_model_module": "@jupyter-widgets/base",
            "_model_module_version": "1.2.0",
            "_model_name": "LayoutModel",
            "_view_count": null,
            "_view_module": "@jupyter-widgets/base",
            "_view_module_version": "1.2.0",
            "_view_name": "LayoutView",
            "align_content": null,
            "align_items": null,
            "align_self": null,
            "border": null,
            "bottom": null,
            "display": null,
            "flex": null,
            "flex_flow": null,
            "grid_area": null,
            "grid_auto_columns": null,
            "grid_auto_flow": null,
            "grid_auto_rows": null,
            "grid_column": null,
            "grid_gap": null,
            "grid_row": null,
            "grid_template_areas": null,
            "grid_template_columns": null,
            "grid_template_rows": null,
            "height": null,
            "justify_content": null,
            "justify_items": null,
            "left": null,
            "margin": null,
            "max_height": null,
            "max_width": null,
            "min_height": null,
            "min_width": null,
            "object_fit": null,
            "object_position": null,
            "order": null,
            "overflow": null,
            "overflow_x": null,
            "overflow_y": null,
            "padding": null,
            "right": null,
            "top": null,
            "visibility": null,
            "width": null
          }
        },
        "87c7242f8e1241ac991b6164b268d790": {
          "model_module": "@jupyter-widgets/controls",
          "model_name": "DescriptionStyleModel",
          "model_module_version": "1.5.0",
          "state": {
            "_model_module": "@jupyter-widgets/controls",
            "_model_module_version": "1.5.0",
            "_model_name": "DescriptionStyleModel",
            "_view_count": null,
            "_view_module": "@jupyter-widgets/base",
            "_view_module_version": "1.2.0",
            "_view_name": "StyleView",
            "description_width": ""
          }
        },
        "52c4885bb91f4c5abda3375eb3ce6dbd": {
          "model_module": "@jupyter-widgets/base",
          "model_name": "LayoutModel",
          "model_module_version": "1.2.0",
          "state": {
            "_model_module": "@jupyter-widgets/base",
            "_model_module_version": "1.2.0",
            "_model_name": "LayoutModel",
            "_view_count": null,
            "_view_module": "@jupyter-widgets/base",
            "_view_module_version": "1.2.0",
            "_view_name": "LayoutView",
            "align_content": null,
            "align_items": null,
            "align_self": null,
            "border": null,
            "bottom": null,
            "display": null,
            "flex": null,
            "flex_flow": null,
            "grid_area": null,
            "grid_auto_columns": null,
            "grid_auto_flow": null,
            "grid_auto_rows": null,
            "grid_column": null,
            "grid_gap": null,
            "grid_row": null,
            "grid_template_areas": null,
            "grid_template_columns": null,
            "grid_template_rows": null,
            "height": null,
            "justify_content": null,
            "justify_items": null,
            "left": null,
            "margin": null,
            "max_height": null,
            "max_width": null,
            "min_height": null,
            "min_width": null,
            "object_fit": null,
            "object_position": null,
            "order": null,
            "overflow": null,
            "overflow_x": null,
            "overflow_y": null,
            "padding": null,
            "right": null,
            "top": null,
            "visibility": null,
            "width": null
          }
        },
        "02f7c9421940465da073bb63bfa95eea": {
          "model_module": "@jupyter-widgets/controls",
          "model_name": "ProgressStyleModel",
          "model_module_version": "1.5.0",
          "state": {
            "_model_module": "@jupyter-widgets/controls",
            "_model_module_version": "1.5.0",
            "_model_name": "ProgressStyleModel",
            "_view_count": null,
            "_view_module": "@jupyter-widgets/base",
            "_view_module_version": "1.2.0",
            "_view_name": "StyleView",
            "bar_color": null,
            "description_width": ""
          }
        },
        "d8ed8845816345909ef977a53e7704fa": {
          "model_module": "@jupyter-widgets/base",
          "model_name": "LayoutModel",
          "model_module_version": "1.2.0",
          "state": {
            "_model_module": "@jupyter-widgets/base",
            "_model_module_version": "1.2.0",
            "_model_name": "LayoutModel",
            "_view_count": null,
            "_view_module": "@jupyter-widgets/base",
            "_view_module_version": "1.2.0",
            "_view_name": "LayoutView",
            "align_content": null,
            "align_items": null,
            "align_self": null,
            "border": null,
            "bottom": null,
            "display": null,
            "flex": null,
            "flex_flow": null,
            "grid_area": null,
            "grid_auto_columns": null,
            "grid_auto_flow": null,
            "grid_auto_rows": null,
            "grid_column": null,
            "grid_gap": null,
            "grid_row": null,
            "grid_template_areas": null,
            "grid_template_columns": null,
            "grid_template_rows": null,
            "height": null,
            "justify_content": null,
            "justify_items": null,
            "left": null,
            "margin": null,
            "max_height": null,
            "max_width": null,
            "min_height": null,
            "min_width": null,
            "object_fit": null,
            "object_position": null,
            "order": null,
            "overflow": null,
            "overflow_x": null,
            "overflow_y": null,
            "padding": null,
            "right": null,
            "top": null,
            "visibility": null,
            "width": null
          }
        },
        "eaa54dc292d8498cac91a4ac58718db7": {
          "model_module": "@jupyter-widgets/controls",
          "model_name": "DescriptionStyleModel",
          "model_module_version": "1.5.0",
          "state": {
            "_model_module": "@jupyter-widgets/controls",
            "_model_module_version": "1.5.0",
            "_model_name": "DescriptionStyleModel",
            "_view_count": null,
            "_view_module": "@jupyter-widgets/base",
            "_view_module_version": "1.2.0",
            "_view_name": "StyleView",
            "description_width": ""
          }
        }
      }
    },
    "accelerator": "GPU"
  },
  "nbformat": 4,
  "nbformat_minor": 0
}